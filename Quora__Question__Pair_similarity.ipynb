{
  "nbformat": 4,
  "nbformat_minor": 0,
  "metadata": {
    "colab": {
      "name": "Quora _Question _Pair_similarity.ipynb",
      "version": "0.3.2",
      "provenance": [],
      "collapsed_sections": [],
      "machine_shape": "hm"
    },
    "kernelspec": {
      "name": "python3",
      "display_name": "Python 3"
    }
  },
  "cells": [
    {
      "cell_type": "markdown",
      "metadata": {
        "id": "-m-8qRSfGWOl",
        "colab_type": "text"
      },
      "source": [
        "# Quora Question Pairs Competition"
      ]
    },
    {
      "cell_type": "markdown",
      "metadata": {
        "id": "jpT3Fu93GOvy",
        "colab_type": "text"
      },
      "source": [
        "# (1) Exploratory Data Analysis"
      ]
    },
    {
      "cell_type": "code",
      "metadata": {
        "id": "UyQGI1PIGTwR",
        "colab_type": "code",
        "outputId": "e93a03e2-8c67-43f3-a0fa-d4a58f9c9fa6",
        "colab": {
          "base_uri": "https://localhost:8080/",
          "height": 35
        }
      },
      "source": [
        "import numpy as np\n",
        "import pandas as pd\n",
        "import seaborn as sns\n",
        "import matplotlib.pyplot as plt\n",
        "from subprocess import check_output\n",
        "# %matplotlib inline\n",
        "import plotly.offline as py\n",
        "py.init_notebook_mode(connected=True)\n",
        "import plotly.graph_objs as go\n",
        "import plotly.tools as tls\n",
        "import os\n",
        "import gc\n",
        "\n",
        "import re\n",
        "from nltk.corpus import stopwords\n",
        "!pip install distance\n",
        "import distance\n",
        "from nltk.stem import PorterStemmer\n",
        "from bs4 import BeautifulSoup"
      ],
      "execution_count": 0,
      "outputs": [
        {
          "output_type": "display_data",
          "data": {
            "text/vnd.plotly.v1+html": "<script type=\"text/javascript\">window.PlotlyConfig = {MathJaxConfig: 'local'};</script><script type=\"text/javascript\">if (window.MathJax) {MathJax.Hub.Config({SVG: {font: \"STIX-Web\"}});}</script><script>requirejs.config({paths: { 'plotly': ['https://cdn.plot.ly/plotly-latest.min']},});if(!window._Plotly) {require(['plotly'],function(plotly) {window._Plotly=plotly;});}</script>",
            "text/html": [
              "<script type=\"text/javascript\">window.PlotlyConfig = {MathJaxConfig: 'local'};</script><script type=\"text/javascript\">if (window.MathJax) {MathJax.Hub.Config({SVG: {font: \"STIX-Web\"}});}</script><script>requirejs.config({paths: { 'plotly': ['https://cdn.plot.ly/plotly-latest.min']},});if(!window._Plotly) {require(['plotly'],function(plotly) {window._Plotly=plotly;});}</script>"
            ]
          },
          "metadata": {
            "tags": []
          }
        },
        {
          "output_type": "stream",
          "text": [
            "Requirement already satisfied: distance in /usr/local/lib/python3.6/dist-packages (0.1.3)\n"
          ],
          "name": "stdout"
        }
      ]
    },
    {
      "cell_type": "markdown",
      "metadata": {
        "id": "MKAO4OXTJxFe",
        "colab_type": "text"
      },
      "source": [
        "## (1.1)Reading data and Basic Stats"
      ]
    },
    {
      "cell_type": "code",
      "metadata": {
        "id": "B5O5YVWSIuQ3",
        "colab_type": "code",
        "outputId": "81ad6726-e232-4d9c-b0ad-0e2b67284c37",
        "colab": {
          "base_uri": "https://localhost:8080/",
          "height": 231
        }
      },
      "source": [
        "df = pd.read_csv(\"train.csv\")\n",
        "\n",
        "print(\"Number of data points:\",df.shape[0])\n",
        "\n",
        "df.head()\n",
        "\n",
        "df.info()"
      ],
      "execution_count": 0,
      "outputs": [
        {
          "output_type": "stream",
          "text": [
            "Number of data points: 404290\n",
            "<class 'pandas.core.frame.DataFrame'>\n",
            "RangeIndex: 404290 entries, 0 to 404289\n",
            "Data columns (total 6 columns):\n",
            "id              404290 non-null int64\n",
            "qid1            404290 non-null int64\n",
            "qid2            404290 non-null int64\n",
            "question1       404289 non-null object\n",
            "question2       404288 non-null object\n",
            "is_duplicate    404290 non-null int64\n",
            "dtypes: int64(4), object(2)\n",
            "memory usage: 18.5+ MB\n"
          ],
          "name": "stdout"
        }
      ]
    },
    {
      "cell_type": "markdown",
      "metadata": {
        "id": "UawCCjPHKdpf",
        "colab_type": "text"
      },
      "source": [
        "### (1.1.1) Distribution of data points among output classes"
      ]
    },
    {
      "cell_type": "code",
      "metadata": {
        "id": "PurG-ZF0KaoO",
        "colab_type": "code",
        "outputId": "92ee3e28-8e3c-4d29-a8c3-e7c01231dd78",
        "colab": {
          "base_uri": "https://localhost:8080/",
          "height": 298
        }
      },
      "source": [
        "df.groupby(\"is_duplicate\")['id'].count().plot.bar()"
      ],
      "execution_count": 0,
      "outputs": [
        {
          "output_type": "execute_result",
          "data": {
            "text/plain": [
              "<matplotlib.axes._subplots.AxesSubplot at 0x7f25ca8239b0>"
            ]
          },
          "metadata": {
            "tags": []
          },
          "execution_count": 5
        },
        {
          "output_type": "display_data",
          "data": {
            "image/png": "[encoded data removed]",
            "text/plain": [
              "<Figure size 432x288 with 1 Axes>"
            ]
          },
          "metadata": {
            "tags": []
          }
        }
      ]
    },
    {
      "cell_type": "code",
      "metadata": {
        "id": "kYjR_fYKKvxd",
        "colab_type": "code",
        "outputId": "133bc821-3723-4ce1-dd12-5afeecf30248",
        "colab": {
          "base_uri": "https://localhost:8080/",
          "height": 53
        }
      },
      "source": [
        "print('~> Total number of question pairs for training:\\n   {}'.format(len(df)))\n"
      ],
      "execution_count": 0,
      "outputs": [
        {
          "output_type": "stream",
          "text": [
            "~> Total number of question pairs for training:\n",
            "   404290\n"
          ],
          "name": "stdout"
        }
      ]
    },
    {
      "cell_type": "code",
      "metadata": {
        "id": "BVjiY7hXKzCU",
        "colab_type": "code",
        "outputId": "a7dd6593-7c6a-4733-897b-147e2112950a",
        "colab": {
          "base_uri": "https://localhost:8080/",
          "height": 106
        }
      },
      "source": [
        "print('~> Question pairs are not Similar (is_duplicate = 0):\\n   {}%'.format(100 - round(df['is_duplicate'].mean()*100, 2)))\n",
        "print('\\n~> Question pairs are Similar (is_duplicate = 1):\\n   {}%'.format(round(df['is_duplicate'].mean()*100, 2)))\n"
      ],
      "execution_count": 0,
      "outputs": [
        {
          "output_type": "stream",
          "text": [
            "~> Question pairs are not Similar (is_duplicate = 0):\n",
            "   63.08%\n",
            "\n",
            "~> Question pairs are Similar (is_duplicate = 1):\n",
            "   36.92%\n"
          ],
          "name": "stdout"
        }
      ]
    },
    {
      "cell_type": "code",
      "metadata": {
        "id": "BJJBM8k6LaZl",
        "colab_type": "code",
        "outputId": "73647a28-b5e8-4b36-bfa2-c05398412311",
        "colab": {
          "base_uri": "https://localhost:8080/",
          "height": 71
        }
      },
      "source": [
        "df['is_duplicate'].value_counts(normalize=True)"
      ],
      "execution_count": 0,
      "outputs": [
        {
          "output_type": "execute_result",
          "data": {
            "text/plain": [
              "0    0.630802\n",
              "1    0.369198\n",
              "Name: is_duplicate, dtype: float64"
            ]
          },
          "metadata": {
            "tags": []
          },
          "execution_count": 8
        }
      ]
    },
    {
      "cell_type": "markdown",
      "metadata": {
        "id": "lroWuB61L7-Y",
        "colab_type": "text"
      },
      "source": [
        "### (1.1.2) Number of unique questions"
      ]
    },
    {
      "cell_type": "code",
      "metadata": {
        "id": "TSDOONTUL9_j",
        "colab_type": "code",
        "outputId": "4cdcf9cd-9026-4077-ae22-fc9be2baa29a",
        "colab": {
          "base_uri": "https://localhost:8080/",
          "height": 124
        }
      },
      "source": [
        "qids = pd.Series(df['qid1'].tolist() + df['qid2'].tolist())\n",
        "unique_qs = len(np.unique(qids))\n",
        "qs_morethan_onetime = np.sum(qids.value_counts() > 1)\n",
        "print ('Total number of  Unique Questions are: {}\\n'.format(unique_qs))\n",
        "#print len(np.unique(qids))\n",
        "\n",
        "print ('Number of unique questions that appear more than one time: {} ({}%)\\n'.format(qs_morethan_onetime,qs_morethan_onetime/unique_qs*100))\n",
        "\n",
        "print ('Max number of times a single question is repeated: {}\\n'.format(max(qids.value_counts()))) \n",
        "\n",
        "q_vals=qids.value_counts()\n",
        "\n",
        "q_vals=q_vals.values\n",
        "\n"
      ],
      "execution_count": 0,
      "outputs": [
        {
          "output_type": "stream",
          "text": [
            "Total number of  Unique Questions are: 537933\n",
            "\n",
            "Number of unique questions that appear more than one time: 111780 (20.77953945937505%)\n",
            "\n",
            "Max number of times a single question is repeated: 157\n",
            "\n"
          ],
          "name": "stdout"
        }
      ]
    },
    {
      "cell_type": "code",
      "metadata": {
        "id": "JJ2dnWX7MSh4",
        "colab_type": "code",
        "outputId": "332f4c08-812f-4885-f269-27d498712635",
        "colab": {
          "base_uri": "https://localhost:8080/",
          "height": 391
        }
      },
      "source": [
        "x = [\"unique_questions\" , \"Repeated Questions\"]\n",
        "y =  [unique_qs , qs_morethan_onetime]\n",
        "\n",
        "plt.figure(figsize=(10, 6))\n",
        "plt.title (\"Plot representing unique and repeated questions  \")\n",
        "sns.barplot(x,y)\n",
        "plt.show()"
      ],
      "execution_count": 0,
      "outputs": [
        {
          "output_type": "display_data",
          "data": {
            "image/png": "[encoded data removed]",
            "text/plain": [
              "<Figure size 720x432 with 1 Axes>"
            ]
          },
          "metadata": {
            "tags": []
          }
        }
      ]
    },
    {
      "cell_type": "markdown",
      "metadata": {
        "id": "ZcaVDPOhMxFG",
        "colab_type": "text"
      },
      "source": [
        "### (1.1.3) Checking for Duplicates"
      ]
    },
    {
      "cell_type": "code",
      "metadata": {
        "id": "DqvXYrdfMrph",
        "colab_type": "code",
        "outputId": "5c508647-42fa-47aa-9643-23c44f194563",
        "colab": {
          "base_uri": "https://localhost:8080/",
          "height": 35
        }
      },
      "source": [
        "#checking whether there are any repeated pair of questions\n",
        "pair_duplicates = df[['qid1','qid2','is_duplicate']].groupby(['qid1','qid2']).count().reset_index()\n",
        "\n",
        "print (\"Number of duplicate questions\",(pair_duplicates).shape[0] - df.shape[0])"
      ],
      "execution_count": 0,
      "outputs": [
        {
          "output_type": "stream",
          "text": [
            "Number of duplicate questions 0\n"
          ],
          "name": "stdout"
        }
      ]
    },
    {
      "cell_type": "markdown",
      "metadata": {
        "id": "WlM2skrsNEvF",
        "colab_type": "text"
      },
      "source": [
        "### (1.1.4) Number of occurrences of each question"
      ]
    },
    {
      "cell_type": "code",
      "metadata": {
        "id": "nKlNiUH2NF-C",
        "colab_type": "code",
        "outputId": "6c20848a-f702-49a7-8b6c-94f212532d03",
        "colab": {
          "base_uri": "https://localhost:8080/",
          "height": 677
        }
      },
      "source": [
        "plt.figure(figsize=(20, 10))\n",
        "\n",
        "plt.hist(qids.value_counts(), bins=160)\n",
        "\n",
        "plt.yscale('log', nonposy='clip')\n",
        "\n",
        "plt.title('Log-Histogram of question appearance counts')\n",
        "\n",
        "plt.xlabel('Number of occurences of question')\n",
        "\n",
        "plt.ylabel('Number of questions')\n",
        "\n",
        "print ('Maximum number of times a single question is repeated: {}\\n'.format(max(qids.value_counts())))"
      ],
      "execution_count": 0,
      "outputs": [
        {
          "output_type": "stream",
          "text": [
            "Maximum number of times a single question is repeated: 157\n",
            "\n"
          ],
          "name": "stdout"
        },
        {
          "output_type": "display_data",
          "data": {
            "image/png": "[encoded data removed]",
            "text/plain": [
              "<Figure size 1440x720 with 1 Axes>"
            ]
          },
          "metadata": {
            "tags": []
          }
        }
      ]
    },
    {
      "cell_type": "markdown",
      "metadata": {
        "id": "poT-0TENNRzP",
        "colab_type": "text"
      },
      "source": [
        "### (1.1.5) Checking for NULL values"
      ]
    },
    {
      "cell_type": "code",
      "metadata": {
        "id": "8cPtxlbXNWWD",
        "colab_type": "code",
        "outputId": "3b133771-71c8-42a2-917e-9b99ab3e95d6",
        "colab": {
          "base_uri": "https://localhost:8080/",
          "height": 124
        }
      },
      "source": [
        "nan_rows = df[df.isnull().any(1)]\n",
        "print (nan_rows)"
      ],
      "execution_count": 0,
      "outputs": [
        {
          "output_type": "stream",
          "text": [
            "            id  ...  is_duplicate\n",
            "105780  105780  ...             0\n",
            "201841  201841  ...             0\n",
            "363362  363362  ...             0\n",
            "\n",
            "[3 rows x 6 columns]\n"
          ],
          "name": "stdout"
        }
      ]
    },
    {
      "cell_type": "code",
      "metadata": {
        "id": "be4EBNvbNdhC",
        "colab_type": "code",
        "outputId": "4205e96b-be79-4811-88b6-f95cf2160c4c",
        "colab": {
          "base_uri": "https://localhost:8080/",
          "height": 71
        }
      },
      "source": [
        "df = df.fillna('')\n",
        "nan_rows = df[df.isnull().any(1)]\n",
        "print (nan_rows)"
      ],
      "execution_count": 0,
      "outputs": [
        {
          "output_type": "stream",
          "text": [
            "Empty DataFrame\n",
            "Columns: [id, qid1, qid2, question1, question2, is_duplicate]\n",
            "Index: []\n"
          ],
          "name": "stdout"
        }
      ]
    },
    {
      "cell_type": "code",
      "metadata": {
        "id": "PUPfTUDvNnB_",
        "colab_type": "code",
        "colab": {}
      },
      "source": [
        ""
      ],
      "execution_count": 0,
      "outputs": []
    },
    {
      "cell_type": "markdown",
      "metadata": {
        "id": "7dEe4aKKN14G",
        "colab_type": "text"
      },
      "source": [
        "## (1.2) Basic Feature Extraction (before cleaning)"
      ]
    },
    {
      "cell_type": "markdown",
      "metadata": {
        "id": "r1nFSDkj2G04",
        "colab_type": "text"
      },
      "source": [
        "### Some basic feature extraction:\n",
        "#### - freq_qid1: number of times qid1 appeared in whole question1.\n",
        "#### - freq_qid2: number of times qid2 appeared in whole question2.\n",
        "#### - q1len: length of q1.\n",
        "#### - q2len: length of q1.\n",
        "#### - q1_n_words: number of words in q1.\n",
        "#### - q2_n_words: number of words in q2.\n",
        "#### - word_common: number of common words in q1 & q2.\n",
        "#### - word-total: total number of word in q1 & q2.\n",
        "#### - word_share: number of common words in q1 & q2/(total number of word in q1 & q2).\n",
        "#### - freq_q1+freq_q2: sum total of frequency of qid1 and qid2\n",
        "#### - freq_q1-freq_q2: absolute difference of frequency of qid1 and qid2 \n"
      ]
    },
    {
      "cell_type": "code",
      "metadata": {
        "id": "BOpQcIEgN1Xv",
        "colab_type": "code",
        "colab": {}
      },
      "source": [
        "# Feature Exraction:  \n",
        "\n",
        "if os.path.isfile('df_fe_without_preprocessing_train.csv'):\n",
        "    df = pd.read_csv(\"df_fe_without_preprocessing_train.csv\",encoding='latin-1')\n",
        "else:\n",
        "    df['freq_qid1'] = df.groupby('qid1')['qid1'].transform('count') \n",
        "    df['freq_qid2'] = df.groupby('qid2')['qid2'].transform('count')\n",
        "    df['q1len'] = df['question1'].str.len() \n",
        "    df['q2len'] = df['question2'].str.len()\n",
        "    df['q1_n_words'] = df['question1'].apply(lambda row: len(row.split(\" \")))\n",
        "    df['q2_n_words'] = df['question2'].apply(lambda row: len(row.split(\" \")))\n",
        "\n",
        "    def normalized_word_Common(row):\n",
        "        w1 = set(map(lambda word: word.lower().strip(), row['question1'].split(\" \")))\n",
        "        w2 = set(map(lambda word: word.lower().strip(), row['question2'].split(\" \")))    \n",
        "        return 1.0 * len(w1 & w2)\n",
        "    df['word_Common'] = df.apply(normalized_word_Common, axis=1)\n",
        "\n",
        "    def normalized_word_Total(row):\n",
        "        w1 = set(map(lambda word: word.lower().strip(), row['question1'].split(\" \")))\n",
        "        w2 = set(map(lambda word: word.lower().strip(), row['question2'].split(\" \")))    \n",
        "        return 1.0 * (len(w1) + len(w2))\n",
        "    df['word_Total'] = df.apply(normalized_word_Total, axis=1)\n",
        "\n",
        "    def normalized_word_share(row):\n",
        "        w1 = set(map(lambda word: word.lower().strip(), row['question1'].split(\" \")))\n",
        "        w2 = set(map(lambda word: word.lower().strip(), row['question2'].split(\" \")))    \n",
        "        return 1.0 * len(w1 & w2)/(len(w1) + len(w2))\n",
        "    df['word_share'] = df.apply(normalized_word_share, axis=1)\n",
        "\n",
        "    df['freq_q1+q2'] = df['freq_qid1']+df['freq_qid2']\n",
        "    df['freq_q1-q2'] = abs(df['freq_qid1']-df['freq_qid2'])\n",
        "\n",
        "    df.to_csv(\"df_fe_without_preprocessing_train.csv\", index=False)\n",
        "\n",
        "df.head()\n"
      ],
      "execution_count": 0,
      "outputs": []
    },
    {
      "cell_type": "markdown",
      "metadata": {
        "id": "SMhqiBKSOXpo",
        "colab_type": "text"
      },
      "source": [
        "### (1.2.1) Analysis of some of the extracted features"
      ]
    },
    {
      "cell_type": "code",
      "metadata": {
        "id": "l-vuK-R6OWXN",
        "colab_type": "code",
        "colab": {}
      },
      "source": [
        "print (\"Minimum length of the questions in question1 : \" , min(df['q1_n_words']))\n",
        "\n",
        "print (\"Minimum length of the questions in question2 : \" , min(df['q2_n_words']))\n",
        "\n",
        "print (\"Number of Questions with minimum length [question1] :\", df[df['q1_n_words']== 1].shape[0])\n",
        "print (\"Number of Questions with minimum length [question2] :\", df[df['q2_n_words']== 1].shape[0])"
      ],
      "execution_count": 0,
      "outputs": []
    },
    {
      "cell_type": "markdown",
      "metadata": {
        "id": "25lpemgTOhUm",
        "colab_type": "text"
      },
      "source": [
        "### (1.2.1.1) Feature: word_share"
      ]
    },
    {
      "cell_type": "code",
      "metadata": {
        "id": "mp1YGcuOOjj0",
        "colab_type": "code",
        "colab": {}
      },
      "source": [
        "plt.figure(figsize=(12, 8))\n",
        "\n",
        "plt.subplot(1,2,1)\n",
        "sns.violinplot(x = 'is_duplicate', y = 'word_share', data = df[0:])\n",
        "\n",
        "plt.subplot(1,2,2)\n",
        "sns.distplot(df[df['is_duplicate'] == 1.0]['word_share'][0:] , label = \"1\", color = 'red')\n",
        "sns.distplot(df[df['is_duplicate'] == 0.0]['word_share'][0:] , label = \"0\" , color = 'blue' )\n",
        "plt.show()\n"
      ],
      "execution_count": 0,
      "outputs": []
    },
    {
      "cell_type": "markdown",
      "metadata": {
        "id": "Gtns2UcR1YPx",
        "colab_type": "text"
      },
      "source": [
        "#### The distributions for word_share have some overlap on the far right-hand side, i.e., there are quite a lot of questions with high word similarity.\n",
        "#### The average word share and Common no. of words of qid1 and qid2 is more when they are duplicate(Similar).\n",
        "#### If we try to viusalize box-plot then easily see overlapping between two classes.\n",
        "\n"
      ]
    },
    {
      "cell_type": "markdown",
      "metadata": {
        "id": "PzHZ3YhcO6YO",
        "colab_type": "text"
      },
      "source": [
        "### (1.2.1.2) Feature: word_Common"
      ]
    },
    {
      "cell_type": "code",
      "metadata": {
        "id": "fNzsC_V7O3nB",
        "colab_type": "code",
        "colab": {}
      },
      "source": [
        "plt.figure(figsize=(12, 8))\n",
        "\n",
        "plt.subplot(1,2,1)\n",
        "sns.violinplot(x = 'is_duplicate', y = 'word_Common', data = df[0:])\n",
        "\n",
        "plt.subplot(1,2,2)\n",
        "sns.distplot(df[df['is_duplicate'] == 1.0]['word_Common'][0:] , label = \"1\", color = 'red')\n",
        "sns.distplot(df[df['is_duplicate'] == 0.0]['word_Common'][0:] , label = \"0\" , color = 'blue' )\n",
        "plt.show()"
      ],
      "execution_count": 0,
      "outputs": []
    },
    {
      "cell_type": "markdown",
      "metadata": {
        "id": "JxV-Eprn8X-s",
        "colab_type": "text"
      },
      "source": [
        "#### Distribution of word_common feature for both classes (similar and Non-similar Que.) highly overlapped.\n",
        "#### Here is also some correlation between word_share  & word_common."
      ]
    },
    {
      "cell_type": "markdown",
      "metadata": {
        "id": "1KqbIZUa702J",
        "colab_type": "text"
      },
      "source": [
        "### (1.2.1.3) Feature: freq_q1+q2"
      ]
    },
    {
      "cell_type": "code",
      "metadata": {
        "id": "AEgKO1jp7zcW",
        "colab_type": "code",
        "colab": {}
      },
      "source": [
        "plt.figure(figsize=(12, 8))\n",
        "\n",
        "plt.subplot(1,2,1)\n",
        "sns.violinplot(x = 'is_duplicate', y = 'freq_q1+q2', data = df[0:])\n",
        "\n",
        "plt.subplot(1,2,2)\n",
        "sns.distplot(df[df['is_duplicate'] == 1.0]['freq_q1+q2'][0:] , label = \"1\", color = 'red')\n",
        "sns.distplot(df[df['is_duplicate'] == 0.0]['freq_q1+q2'][0:] , label = \"0\" , color = 'blue' )\n",
        "plt.show()"
      ],
      "execution_count": 0,
      "outputs": []
    },
    {
      "cell_type": "markdown",
      "metadata": {
        "id": "nuNBBGUy1bmD",
        "colab_type": "text"
      },
      "source": [
        "#### feature freq_q1+q2 not giving any difference between similar and non-similar question."
      ]
    },
    {
      "cell_type": "markdown",
      "metadata": {
        "id": "6QondbVT-UkP",
        "colab_type": "text"
      },
      "source": [
        "### (1.2.1.4) Feature: freq_q1-q2"
      ]
    },
    {
      "cell_type": "code",
      "metadata": {
        "id": "aYbvHbqs-alS",
        "colab_type": "code",
        "colab": {}
      },
      "source": [
        "plt.figure(figsize=(12, 8))\n",
        "\n",
        "plt.subplot(1,2,1)\n",
        "sns.violinplot(x = 'is_duplicate', y = 'freq_q1-q2', data = df[0:])\n",
        "\n",
        "plt.subplot(1,2,2)\n",
        "sns.distplot(df[df['is_duplicate'] == 1.0]['freq_q1-q2'][0:] , label = \"1\", color = 'red')\n",
        "sns.distplot(df[df['is_duplicate'] == 0.0]['freq_q1-q2'][0:] , label = \"0\" , color = 'blue' )\n",
        "plt.show()"
      ],
      "execution_count": 0,
      "outputs": []
    },
    {
      "cell_type": "markdown",
      "metadata": {
        "id": "xyL9nVbVPYE-",
        "colab_type": "text"
      },
      "source": [
        "## (1.2.2) EDA: Advanced Feature Extraction"
      ]
    },
    {
      "cell_type": "code",
      "metadata": {
        "id": "PqGBmiCWMlAv",
        "colab_type": "code",
        "colab": {}
      },
      "source": [
        "!pip install  wordcloud\n",
        "\n",
        "!pip install fuzzywuzzy"
      ],
      "execution_count": 0,
      "outputs": []
    },
    {
      "cell_type": "code",
      "metadata": {
        "id": "F-kUuHQ8PA4F",
        "colab_type": "code",
        "colab": {}
      },
      "source": [
        "import warnings\n",
        "warnings.filterwarnings(\"ignore\")\n",
        "import numpy as np\n",
        "import pandas as pd\n",
        "import seaborn as sns\n",
        "import matplotlib.pyplot as plt\n",
        "from subprocess import check_output\n",
        "# %matplotlib inline\n",
        "import plotly.offline as py\n",
        "py.init_notebook_mode(connected=True)\n",
        "import plotly.graph_objs as go\n",
        "import plotly.tools as tls\n",
        "import os\n",
        "import gc\n",
        "\n",
        "\n",
        "import re\n",
        "from nltk.corpus import stopwords\n",
        "import distance\n",
        "from nltk.stem import PorterStemmer\n",
        "from bs4 import BeautifulSoup\n",
        "import re\n",
        "from nltk.corpus import stopwords\n",
        "# This package is used for finding longest common subsequence between two strings\n",
        "# you can write your own dp code for this\n",
        "import distance\n",
        "from nltk.stem import PorterStemmer\n",
        "from bs4 import BeautifulSoup\n",
        "from fuzzywuzzy import fuzz\n",
        "from sklearn.manifold import TSNE\n",
        "# Import the Required lib packages for WORD-Cloud generation\n",
        "from wordcloud import WordCloud, STOPWORDS\n",
        "from os import path\n"
      ],
      "execution_count": 0,
      "outputs": []
    },
    {
      "cell_type": "code",
      "metadata": {
        "id": "qOP6KlcJReu_",
        "colab_type": "code",
        "colab": {}
      },
      "source": [
        "if os.path.isfile('df_fe_without_preprocessing_train.csv'):\n",
        "    df = pd.read_csv(\"df_fe_without_preprocessing_train.csv\",encoding='latin-1')\n",
        "    df = df.fillna('')\n",
        "    df.head()\n",
        "else:\n",
        "    print(\"get df_fe_without_preprocessing_train.csv from drive or run the previous notebook\")"
      ],
      "execution_count": 0,
      "outputs": []
    },
    {
      "cell_type": "code",
      "metadata": {
        "id": "Fri-udciRj0X",
        "colab_type": "code",
        "colab": {}
      },
      "source": [
        "df.head(2)"
      ],
      "execution_count": 0,
      "outputs": []
    },
    {
      "cell_type": "markdown",
      "metadata": {
        "id": "dJLpShzvRopu",
        "colab_type": "text"
      },
      "source": [
        "# (2) Preprocessing of Text"
      ]
    },
    {
      "cell_type": "markdown",
      "metadata": {
        "id": "OrXGGA9azfq1",
        "colab_type": "text"
      },
      "source": [
        "### Preprocessing :\n",
        "### Removing html tags, Removing Punctuations, Performing stemming, Removing Stopwords, Expanding contractions etc"
      ]
    },
    {
      "cell_type": "code",
      "metadata": {
        "id": "TdCm2MHxRk3t",
        "colab_type": "code",
        "colab": {}
      },
      "source": [
        "#to get results in 4decimal points.\n",
        "SAFE_DIV = 0.0001 \n",
        "\n",
        "import nltk\n",
        "nltk.download('stopwords')\n",
        "STOP_WORDS = stopwords.words(\"english\")\n",
        "\n",
        "def preprocess(x):\n",
        "    x = str(x).lower()\n",
        "    x = x.replace(\",000,000\", \"m\").replace(\",000\", \"k\").replace(\"′\", \"'\").replace(\"’\", \"'\")\\\n",
        "                           .replace(\"won't\", \"will not\").replace(\"cannot\", \"can not\").replace(\"can't\", \"can not\")\\\n",
        "                           .replace(\"n't\", \" not\").replace(\"what's\", \"what is\").replace(\"it's\", \"it is\")\\\n",
        "                           .replace(\"'ve\", \" have\").replace(\"i'm\", \"i am\").replace(\"'re\", \" are\")\\\n",
        "                           .replace(\"he's\", \"he is\").replace(\"she's\", \"she is\").replace(\"'s\", \" own\")\\\n",
        "                           .replace(\"%\", \" percent \").replace(\"₹\", \" rupee \").replace(\"$\", \" dollar \")\\\n",
        "                           .replace(\"€\", \" euro \").replace(\"'ll\", \" will\")\n",
        "    x = re.sub(r\"([0-9]+)000000\", r\"\\1m\", x)\n",
        "    x = re.sub(r\"([0-9]+)000\", r\"\\1k\", x)\n",
        "    \n",
        "    \n",
        "    porter = PorterStemmer()\n",
        "    pattern = re.compile('\\W')\n",
        "    \n",
        "    if type(x) == type(''):\n",
        "        x = re.sub(pattern, ' ', x)\n",
        "    \n",
        "    \n",
        "    if type(x) == type(''):\n",
        "        x = porter.stem(x)\n",
        "        example1 = BeautifulSoup(x)\n",
        "        x = example1.get_text()\n",
        "               \n",
        "    \n",
        "    return x"
      ],
      "execution_count": 0,
      "outputs": []
    },
    {
      "cell_type": "markdown",
      "metadata": {
        "id": "a84i1SIOSGRk",
        "colab_type": "text"
      },
      "source": [
        "# (2.1) Advanced Feature Extraction"
      ]
    },
    {
      "cell_type": "markdown",
      "metadata": {
        "id": "dDHjyrDcMY8f",
        "colab_type": "text"
      },
      "source": [
        "### Definitions:\n",
        "\n",
        "    Token: You get a token by splitting sentence a space\n",
        "    Stop_Word : stop words as per NLTK.\n",
        "    Word : A token that is not a stop_word\n",
        "\n",
        "### Features:\n",
        "\n",
        "    cwc_min : Ratio of common_word_count to min length of word count of Q1 and Q2 without stopword\n",
        "    cwc_min = common_word_count / (min(len(q1_words), len(q2_words))\n",
        "\n",
        "\n",
        "    cwc_max : Ratio of common_word_count to max length of word count of Q1 and Q2 without stopword.\n",
        "    cwc_max = common_word_count / (max(len(q1_words), len(q2_words))\n",
        "\n",
        "\n",
        "    csc_min : Ratio of common_stop_count to min length of stop count of Q1 and Q2\n",
        "    csc_min = common_stop_count / (min(len(q1_stops), len(q2_stops))\n",
        "\n",
        "\n",
        "    csc_max : Ratio of common_stop_count to max length of stop count of Q1 and Q2\n",
        "    csc_max = common_stop_count / (max(len(q1_stops), len(q2_stops))\n",
        "\n",
        "\n",
        "    ctc_min : Ratio of common_token_count to min length of token count of Q1 and Q2\n",
        "    ctc_min = common_token_count / (min(len(q1_tokens), len(q2_tokens))\n",
        "\n",
        "\n",
        "    ctc_max : Ratio of common_token_count to max length of token count of Q1 and Q2\n",
        "    ctc_max = common_token_count / (max(len(q1_tokens), len(q2_tokens))\n",
        "\n",
        "\n",
        "    last_word_eq : Check if last word of both questions is equal or not\n",
        "    last_word_eq = int(q1_tokens[-1] == q2_tokens[-1])\n",
        "\n",
        "\n",
        "    first_word_eq : Check if First word of both questions is equal or not\n",
        "    first_word_eq = int(q1_tokens[0] == q2_tokens[0])\n",
        "\n",
        "\n",
        "    abs_len_diff : Abs. length difference\n",
        "    abs_len_diff = abs(len(q1_tokens) - len(q2_tokens))\n",
        "\n",
        "\n",
        "    mean_len : Average Token Length of both Questions\n",
        "    mean_len = (len(q1_tokens) + len(q2_tokens))/2\n",
        "    \n",
        "### Fuzzywuzzy features:\n",
        " http://chairnerd.seatgeek.com/fuzzywuzzy-fuzzy-string-matching-in-python/\n"
      ]
    },
    {
      "cell_type": "code",
      "metadata": {
        "id": "IXHxvUvzSNQu",
        "colab_type": "code",
        "colab": {}
      },
      "source": [
        "def get_token_features(q1, q2):\n",
        "    token_features = [0.0]*10\n",
        "    \n",
        "    # Converting the Sentence into Tokens: \n",
        "    q1_tokens = q1.split()\n",
        "    q2_tokens = q2.split()\n",
        "\n",
        "    if len(q1_tokens) == 0 or len(q2_tokens) == 0:\n",
        "        return token_features\n",
        "    # Get the non-stopwords in Questions\n",
        "    q1_words = set([word for word in q1_tokens if word not in STOP_WORDS])\n",
        "    q2_words = set([word for word in q2_tokens if word not in STOP_WORDS])\n",
        "    \n",
        "    #Get the stopwords in Questions\n",
        "    q1_stops = set([word for word in q1_tokens if word in STOP_WORDS])\n",
        "    q2_stops = set([word for word in q2_tokens if word in STOP_WORDS])\n",
        "    \n",
        "    # Get the common non-stopwords from Question pair\n",
        "    common_word_count = len(q1_words.intersection(q2_words))\n",
        "    \n",
        "    # Get the common stopwords from Question pair\n",
        "    common_stop_count = len(q1_stops.intersection(q2_stops))\n",
        "    \n",
        "    # Get the common Tokens from Question pair\n",
        "    common_token_count = len(set(q1_tokens).intersection(set(q2_tokens)))\n",
        "    \n",
        "    \n",
        "    token_features[0] = common_word_count / (min(len(q1_words), len(q2_words)) + SAFE_DIV)\n",
        "    token_features[1] = common_word_count / (max(len(q1_words), len(q2_words)) + SAFE_DIV)\n",
        "    token_features[2] = common_stop_count / (min(len(q1_stops), len(q2_stops)) + SAFE_DIV)\n",
        "    token_features[3] = common_stop_count / (max(len(q1_stops), len(q2_stops)) + SAFE_DIV)\n",
        "    token_features[4] = common_token_count / (min(len(q1_tokens), len(q2_tokens)) + SAFE_DIV)\n",
        "    token_features[5] = common_token_count / (max(len(q1_tokens), len(q2_tokens)) + SAFE_DIV)\n",
        "    \n",
        "    # Last word of both question is same or not\n",
        "    token_features[6] = int(q1_tokens[-1] == q2_tokens[-1])\n",
        "    \n",
        "    # First word of both question is same or not\n",
        "    token_features[7] = int(q1_tokens[0] == q2_tokens[0])\n",
        "    \n",
        "    token_features[8] = abs(len(q1_tokens) - len(q2_tokens))\n",
        "    \n",
        "    #Average Token Length of both Questions\n",
        "    token_features[9] = (len(q1_tokens) + len(q2_tokens))/2\n",
        "    return token_features\n",
        "\n",
        "# get the Longest Common sub string\n",
        "\n",
        "def get_longest_substr_ratio(a, b):\n",
        "    strs = list(distance.lcsubstrings(a, b))\n",
        "    if len(strs) == 0:\n",
        "        return 0\n",
        "    else:\n",
        "        return len(strs[0]) / (min(len(a), len(b)) + 1)\n",
        "      \n",
        "\n",
        "def extract_features(df):\n",
        "    # preprocessing each question\n",
        "    df[\"question1\"] = df[\"question1\"].fillna(\"\").apply(preprocess)\n",
        "    df[\"question2\"] = df[\"question2\"].fillna(\"\").apply(preprocess)\n",
        "\n",
        "    print(\"token features...\")\n",
        "    \n",
        "    # Merging Features with dataset\n",
        "    \n",
        "    token_features = df.apply(lambda x: get_token_features(x[\"question1\"], x[\"question2\"]), axis=1)\n",
        "    \n",
        "    df[\"cwc_min\"]       = list(map(lambda x: x[0], token_features))\n",
        "    df[\"cwc_max\"]       = list(map(lambda x: x[1], token_features))\n",
        "    df[\"csc_min\"]       = list(map(lambda x: x[2], token_features))\n",
        "    df[\"csc_max\"]       = list(map(lambda x: x[3], token_features))\n",
        "    df[\"ctc_min\"]       = list(map(lambda x: x[4], token_features))\n",
        "    df[\"ctc_max\"]       = list(map(lambda x: x[5], token_features))\n",
        "    df[\"last_word_eq\"]  = list(map(lambda x: x[6], token_features))\n",
        "    df[\"first_word_eq\"] = list(map(lambda x: x[7], token_features))\n",
        "    df[\"abs_len_diff\"]  = list(map(lambda x: x[8], token_features))\n",
        "    df[\"mean_len\"]      = list(map(lambda x: x[9], token_features))\n",
        "   \n",
        "    #Computing Fuzzy Features and Merging with Dataset\n",
        "    \n",
        "    print(\"fuzzy features..\");\n",
        "\n",
        "    df[\"token_set_ratio\"]       = df.apply(lambda x: fuzz.token_set_ratio(x[\"question1\"], x[\"question2\"]), axis=1)\n",
        "    df[\"token_sort_ratio\"]      = df.apply(lambda x: fuzz.token_sort_ratio(x[\"question1\"], x[\"question2\"]), axis=1)\n",
        "    df[\"fuzz_ratio\"]            = df.apply(lambda x: fuzz.QRatio(x[\"question1\"], x[\"question2\"]), axis=1)\n",
        "    df[\"fuzz_partial_ratio\"]    = df.apply(lambda x: fuzz.partial_ratio(x[\"question1\"], x[\"question2\"]), axis=1)\n",
        "    df[\"longest_substr_ratio\"]  = df.apply(lambda x: get_longest_substr_ratio(x[\"question1\"], x[\"question2\"]), axis=1)\n",
        "    return df\n"
      ],
      "execution_count": 0,
      "outputs": []
    },
    {
      "cell_type": "code",
      "metadata": {
        "id": "I8mhAH_2TQAH",
        "colab_type": "code",
        "colab": {}
      },
      "source": [
        "\n",
        "if os.path.isfile('nlp_features_train.csv'):\n",
        "    df = pd.read_csv(\"nlp_features_train.csv\",encoding='latin-1')\n",
        "    df.fillna('')\n",
        "else:\n",
        "    print(\"Extracting features for train:\")\n",
        "    df = pd.read_csv(\"train.csv\")\n",
        "    df = extract_features(df)\n",
        "    df.to_csv(\"nlp_features_train.csv\", index=False)\n",
        "df.head(2)\n"
      ],
      "execution_count": 0,
      "outputs": []
    },
    {
      "cell_type": "markdown",
      "metadata": {
        "id": "84dyjHJTTlS5",
        "colab_type": "text"
      },
      "source": [
        "## (2.1.1) Analysis of extracted features"
      ]
    },
    {
      "cell_type": "markdown",
      "metadata": {
        "id": "sC6KRtblyOiV",
        "colab_type": "text"
      },
      "source": [
        "### (2.1.1.1)Plotting Words Clouds"
      ]
    },
    {
      "cell_type": "code",
      "metadata": {
        "id": "TrDtZ6wQTdVS",
        "colab_type": "code",
        "colab": {}
      },
      "source": [
        "df_duplicate = df[df['is_duplicate'] == 1]\n",
        "dfp_nonduplicate = df[df['is_duplicate'] == 0]\n",
        "\n",
        "# Converting 2d array of q1 and q2 and flatten the array: like {{1,2},{3,4}} to {1,2,3,4}\n",
        "p = np.dstack([df_duplicate[\"question1\"], df_duplicate[\"question2\"]]).flatten()\n",
        "n = np.dstack([dfp_nonduplicate[\"question1\"], dfp_nonduplicate[\"question2\"]]).flatten()\n",
        "\n",
        "print (\"Number of data points in class 1 (duplicate pairs) :\",len(p))\n",
        "print (\"Number of data points in class 0 (non duplicate pairs) :\",len(n))\n",
        "\n",
        "#Saving the np array into a text file\n",
        "np.savetxt('train_p.txt', p, delimiter=' ', fmt='%s')\n",
        "np.savetxt('train_n.txt', n, delimiter=' ', fmt='%s',encoding='utf-8')"
      ],
      "execution_count": 0,
      "outputs": []
    },
    {
      "cell_type": "code",
      "metadata": {
        "id": "QPilo7JNUWXQ",
        "colab_type": "code",
        "colab": {}
      },
      "source": [
        "\n",
        "# reading the text files and removing the Stop Words:\n",
        "d = path.dirname('.')\n",
        "\n",
        "textp_w = open(path.join(d, 'train_p.txt')).read()\n",
        "textn_w = open(path.join(d, 'train_n.txt')).read()\n",
        "stopwords = set(STOPWORDS)\n",
        "stopwords.add(\"said\")\n",
        "stopwords.add(\"br\")\n",
        "stopwords.add(\" \")\n",
        "stopwords.remove(\"not\")\n",
        "\n",
        "stopwords.remove(\"no\")\n",
        "#stopwords.remove(\"good\")\n",
        "#stopwords.remove(\"love\")\n",
        "stopwords.remove(\"like\")\n",
        "#stopwords.remove(\"best\")\n",
        "#stopwords.remove(\"!\")\n",
        "print (\"Total number of words in duplicate pair questions :\",len(textp_w))\n",
        "print (\"Total number of words in non duplicate pair questions :\",len(textn_w))"
      ],
      "execution_count": 0,
      "outputs": []
    },
    {
      "cell_type": "code",
      "metadata": {
        "id": "vtJZ_T5hUeT_",
        "colab_type": "code",
        "colab": {}
      },
      "source": [
        "\"\"\"__ Word Clouds generated from  duplicate pair question's text __\"\"\"\n",
        "\n",
        "wc = WordCloud(background_color=\"white\", max_words=len(textp_w), stopwords=stopwords)\n",
        "wc.generate(textp_w)\n",
        "print (\"Word Cloud for Duplicate Question pairs\")\n",
        "plt.imshow(wc, interpolation='bilinear')\n",
        "plt.axis(\"off\")\n",
        "plt.show()"
      ],
      "execution_count": 0,
      "outputs": []
    },
    {
      "cell_type": "code",
      "metadata": {
        "id": "WaJXMJ_HUlUA",
        "colab_type": "code",
        "colab": {}
      },
      "source": [
        "wc = WordCloud(background_color=\"white\", max_words=len(textn_w),stopwords=stopwords)\n",
        "# generate word cloud\n",
        "wc.generate(textn_w)\n",
        "print (\"Word Cloud for non-Duplicate Question pairs:\")\n",
        "plt.imshow(wc, interpolation='bilinear')\n",
        "plt.axis(\"off\")\n",
        "plt.show()"
      ],
      "execution_count": 0,
      "outputs": []
    },
    {
      "cell_type": "markdown",
      "metadata": {
        "id": "kV47L5cCUsKP",
        "colab_type": "text"
      },
      "source": [
        "### (2.1.1.2) Pair plot of features:    ['ctc_min', 'cwc_min', 'csc_min', 'token_sort_ratio']"
      ]
    },
    {
      "cell_type": "code",
      "metadata": {
        "id": "RN_gBpwwUtuU",
        "colab_type": "code",
        "colab": {}
      },
      "source": [
        "n = df.shape[0]\n",
        "sns.pairplot(df[['ctc_min', 'cwc_min', 'csc_min', 'token_sort_ratio', 'is_duplicate']][0:n], hue='is_duplicate', vars=['ctc_min', 'cwc_min', 'csc_min', 'token_sort_ratio'])\n",
        "plt.show()"
      ],
      "execution_count": 0,
      "outputs": []
    },
    {
      "cell_type": "code",
      "metadata": {
        "id": "6Njy2H05U0EX",
        "colab_type": "code",
        "colab": {}
      },
      "source": [
        "# Distribution of the token_sort_ratio\n",
        "plt.figure(figsize=(10, 8))\n",
        "\n",
        "plt.subplot(1,2,1)\n",
        "sns.violinplot(x = 'is_duplicate', y = 'token_sort_ratio', data = df[0:] , )\n",
        "\n",
        "plt.subplot(1,2,2)\n",
        "sns.distplot(df[df['is_duplicate'] == 1.0]['token_sort_ratio'][0:] , label = \"1\", color = 'red')\n",
        "sns.distplot(df[df['is_duplicate'] == 0.0]['token_sort_ratio'][0:] , label = \"0\" , color = 'blue' )\n",
        "plt.show()"
      ],
      "execution_count": 0,
      "outputs": []
    },
    {
      "cell_type": "code",
      "metadata": {
        "id": "oNi_brHpU5Tb",
        "colab_type": "code",
        "colab": {}
      },
      "source": [
        "\n",
        "#token_sort_ratio is interesting feature because they dont fully  overlap.\n",
        "#ideally they should fully seperated\n",
        "\n",
        "plt.figure(figsize=(10, 8))\n",
        "\n",
        "plt.subplot(1,2,1)\n",
        "sns.violinplot(x = 'is_duplicate', y = 'fuzz_ratio', data = df[0:] , )\n",
        "\n",
        "plt.subplot(1,2,2)\n",
        "sns.distplot(df[df['is_duplicate'] == 1.0]['fuzz_ratio'][0:] , label = \"1\", color = 'red')\n",
        "sns.distplot(df[df['is_duplicate'] == 0.0]['fuzz_ratio'][0:] , label = \"0\" , color = 'blue' )\n",
        "plt.show()\n"
      ],
      "execution_count": 0,
      "outputs": []
    },
    {
      "cell_type": "markdown",
      "metadata": {
        "id": "L4X5h5z5VT0s",
        "colab_type": "text"
      },
      "source": [
        "## (2.1.2) Visualization"
      ]
    },
    {
      "cell_type": "code",
      "metadata": {
        "id": "Ya2-TxS6VMDb",
        "colab_type": "code",
        "colab": {}
      },
      "source": [
        "# Using TSNE for Dimentionality reduction for 15 Features(Generated after cleaning the data) to 2 dimention\n",
        "\n",
        "from sklearn.preprocessing import MinMaxScaler\n",
        "\n",
        "dfp_subsampled = df[0:5000]\n",
        "X = MinMaxScaler().fit_transform(dfp_subsampled[['cwc_min', 'cwc_max', 'csc_min', 'csc_max' , 'ctc_min' , 'ctc_max' , 'last_word_eq', 'first_word_eq' , 'abs_len_diff' , 'mean_len' , 'token_set_ratio' , 'token_sort_ratio' ,  'fuzz_ratio' , 'fuzz_partial_ratio' , 'longest_substr_ratio']])\n",
        "y = dfp_subsampled['is_duplicate'].values\n",
        "\n"
      ],
      "execution_count": 0,
      "outputs": []
    },
    {
      "cell_type": "code",
      "metadata": {
        "id": "P6E6b5A8VaPQ",
        "colab_type": "code",
        "colab": {}
      },
      "source": [
        "tsne2d = TSNE(\n",
        "    n_components=2,\n",
        "    init='random', # pca\n",
        "    random_state=101,\n",
        "    method='barnes_hut',\n",
        "    n_iter=1000,\n",
        "    verbose=2,\n",
        "    angle=0.5\n",
        ").fit_transform(X)\n",
        "\n"
      ],
      "execution_count": 0,
      "outputs": []
    },
    {
      "cell_type": "code",
      "metadata": {
        "id": "JmQpBSUHVfM5",
        "colab_type": "code",
        "colab": {}
      },
      "source": [
        "df = pd.DataFrame({'x':tsne2d[:,0], 'y':tsne2d[:,1] ,'label':y})\n",
        "\n",
        "# draw the plot in appropriate place in the grid\n",
        "sns.lmplot(data=df, x='x', y='y', hue='label', fit_reg=False, size=8,palette=\"Set1\",markers=['s','o'])\n",
        "plt.title(\"perplexity : {} and max_iter : {}\".format(30, 1000))\n",
        "plt.show()"
      ],
      "execution_count": 0,
      "outputs": []
    },
    {
      "cell_type": "code",
      "metadata": {
        "id": "xK5zJDV8Vliz",
        "colab_type": "code",
        "colab": {}
      },
      "source": [
        "from sklearn.manifold import TSNE\n",
        "tsne3d = TSNE(\n",
        "    n_components=3,\n",
        "    init='random', # pca\n",
        "    random_state=101,\n",
        "    method='barnes_hut',\n",
        "    n_iter=1000,\n",
        "    verbose=2,\n",
        "    angle=0.5\n",
        ").fit_transform(X)"
      ],
      "execution_count": 0,
      "outputs": []
    },
    {
      "cell_type": "code",
      "metadata": {
        "id": "p2H40wk_VvAU",
        "colab_type": "code",
        "colab": {}
      },
      "source": [
        "\n",
        "trace1 = go.Scatter3d(\n",
        "    x=tsne3d[:,0],\n",
        "    y=tsne3d[:,1],\n",
        "    z=tsne3d[:,2],\n",
        "    mode='markers',\n",
        "    marker=dict(\n",
        "        sizemode='diameter',\n",
        "        color = y,\n",
        "        colorscale = 'Portland',\n",
        "        colorbar = dict(title = 'duplicate'),\n",
        "        line=dict(color='rgb(255, 255, 255)'),\n",
        "        opacity=0.75\n",
        "    )\n",
        ")\n",
        "\n",
        "data=[trace1]\n",
        "layout=dict(height=800, width=800, title='3d embedding with engineered features')\n",
        "fig=dict(data=data, layout=layout)\n",
        "py.iplot(fig, filename='3DBubble')\n"
      ],
      "execution_count": 0,
      "outputs": []
    },
    {
      "cell_type": "markdown",
      "metadata": {
        "id": "UOvKf4TpV3ER",
        "colab_type": "text"
      },
      "source": [
        "## (2.2) Featurizing text data with tfidf weighted word-vectors"
      ]
    },
    {
      "cell_type": "code",
      "metadata": {
        "id": "ficCNHNlV1or",
        "colab_type": "code",
        "colab": {}
      },
      "source": [
        "import pandas as pd\n",
        "import matplotlib.pyplot as plt\n",
        "import re\n",
        "import time\n",
        "import warnings\n",
        "import numpy as np\n",
        "from nltk.corpus import stopwords\n",
        "from sklearn.preprocessing import normalize\n",
        "from sklearn.feature_extraction.text import CountVectorizer\n",
        "from sklearn.feature_extraction.text import TfidfVectorizer\n",
        "warnings.filterwarnings(\"ignore\")\n",
        "import sys\n",
        "import os \n",
        "import pandas as pd\n",
        "import numpy as np\n",
        "from tqdm import tqdm\n",
        "\n"
      ],
      "execution_count": 0,
      "outputs": []
    },
    {
      "cell_type": "code",
      "metadata": {
        "id": "LkF4Fi_gWCxD",
        "colab_type": "code",
        "colab": {}
      },
      "source": [
        "import spacy\n",
        "\n",
        "!pip install spacy"
      ],
      "execution_count": 0,
      "outputs": []
    },
    {
      "cell_type": "code",
      "metadata": {
        "id": "JpqWn3Ti2XtW",
        "colab_type": "code",
        "colab": {}
      },
      "source": [
        "df = pd.read_csv(\"train.csv\")"
      ],
      "execution_count": 0,
      "outputs": []
    },
    {
      "cell_type": "code",
      "metadata": {
        "id": "PngJC78zWQDB",
        "colab_type": "code",
        "colab": {}
      },
      "source": [
        "df['question1'] = df['question1'].apply(lambda x: str(x))\n",
        "df['question2'] = df['question2'].apply(lambda x: str(x))\n",
        "\n",
        "df.head()\n"
      ],
      "execution_count": 0,
      "outputs": []
    },
    {
      "cell_type": "code",
      "metadata": {
        "id": "KgITVQCUWLsK",
        "colab_type": "code",
        "colab": {}
      },
      "source": [
        "#computing tfidf weighted W2V \n",
        "\n",
        "from sklearn.feature_extraction.text import TfidfVectorizer\n",
        "from sklearn.feature_extraction.text import CountVectorizer\n",
        "# merge texts\n",
        "questions = list(df['question1']) + list(df['question2'])\n",
        "\n",
        "tfidf = TfidfVectorizer(lowercase=False, )\n",
        "tfidf.fit_transform(questions)\n",
        "\n",
        "# dict key:word and value:tf-idf score\n",
        "word2tfidf = dict(zip(tfidf.get_feature_names(), tfidf.idf_))"
      ],
      "execution_count": 0,
      "outputs": []
    },
    {
      "cell_type": "code",
      "metadata": {
        "id": "Qgp9FP6YWefK",
        "colab_type": "code",
        "colab": {}
      },
      "source": [
        "#spacy is the pretrained glove model.\n",
        "# https://spacy.io/usage/vectors-similarity\n",
        "\n",
        "import spacy\n",
        "\n",
        "\n",
        "nlp = spacy.load('en_core_web_sm')\n",
        "vecs1 = []\n",
        "# https://github.com/noamraph/tqdm\n",
        "# tqdm is used to print the progress bar\n",
        "for qu1 in tqdm(list(df['question1'])):\n",
        "    doc1 = nlp(qu1) \n",
        "    # 384 is the number of dimensions of vectors \n",
        "    mean_vec1 = np.zeros([len(doc1), len(doc1[0].vector)])\n",
        "    for word1 in doc1:\n",
        "        # word2vec\n",
        "        vec1 = word1.vector\n",
        "        # fetch df score\n",
        "        try:\n",
        "            idf = word2tfidf[str(word1)]\n",
        "        except:\n",
        "            idf = 0\n",
        "            \n",
        "        # compute final vec\n",
        "        mean_vec1 += vec1 * idf\n",
        "    mean_vec1 = mean_vec1.mean(axis=0)\n",
        "    vecs1.append(mean_vec1)\n",
        "df['q1_feats_m'] = list(vecs1)"
      ],
      "execution_count": 0,
      "outputs": []
    },
    {
      "cell_type": "code",
      "metadata": {
        "id": "LbBuyxNOWjkQ",
        "colab_type": "code",
        "colab": {}
      },
      "source": [
        "\n",
        "vecs2 = []\n",
        "for qu2 in tqdm(list(df['question2'])):\n",
        "    doc2 = nlp(qu2) \n",
        "    mean_vec2 = np.zeros([len(doc2), len(doc2[0].vector)])\n",
        "    for word2 in doc2:\n",
        "        # word2vec\n",
        "        vec2 = word2.vector\n",
        "        # fetch df score\n",
        "        try:\n",
        "            idf = word2tfidf[str(word2)]\n",
        "        except:\n",
        "            #print word\n",
        "            idf = 0\n",
        "        # compute final vec\n",
        "        mean_vec2 += vec2 * idf\n",
        "    mean_vec2 = mean_vec2.mean(axis=0)\n",
        "    vecs2.append(mean_vec2)\n",
        "df['q2_feats_m'] = list(vecs2)"
      ],
      "execution_count": 0,
      "outputs": []
    },
    {
      "cell_type": "code",
      "metadata": {
        "id": "adxtLiSmW2ql",
        "colab_type": "code",
        "colab": {}
      },
      "source": [
        "\n",
        "#prepro_features_train.csv (Simple Preprocessing Feartures)\n",
        "#nlp_features_train.csv (NLP Features)\n",
        "\n",
        "if os.path.isfile('nlp_features_train.csv'):\n",
        "    dfnlp = pd.read_csv(\"nlp_features_train.csv\",encoding='latin-1')\n",
        "else:\n",
        "    print(\"download nlp_features_train.csv from drive or run previous notebook\")\n",
        "\n",
        "    \n",
        "if os.path.isfile('df_fe_without_preprocessing_train.csv'):\n",
        "    dfppro = pd.read_csv(\"df_fe_without_preprocessing_train.csv\",encoding='latin-1')\n",
        "else:\n",
        "    print(\"download df_fe_without_preprocessing_train.csv from drive or run previous notebook\")\n",
        "\n"
      ],
      "execution_count": 0,
      "outputs": []
    },
    {
      "cell_type": "code",
      "metadata": {
        "id": "0VcuETrBW7RJ",
        "colab_type": "code",
        "colab": {}
      },
      "source": [
        "df1 = dfnlp.drop(['qid1','qid2','question1','question2'],axis=1)\n",
        "df2 = dfppro.drop(['qid1','qid2','question1','question2','is_duplicate'],axis=1)\n",
        "df3 = df.drop(['qid1','qid2','question1','question2','is_duplicate'],axis=1)\n",
        "df3_q1 = pd.DataFrame(df3.q1_feats_m.values.tolist(), index= df3.index)\n",
        "df3_q2 = pd.DataFrame(df3.q2_feats_m.values.tolist(), index= df3.index)\n"
      ],
      "execution_count": 0,
      "outputs": []
    },
    {
      "cell_type": "code",
      "metadata": {
        "id": "e_jbiJzlW-TT",
        "colab_type": "code",
        "colab": {}
      },
      "source": [
        "\n",
        "# dataframe of nlp features\n",
        "df1.head()"
      ],
      "execution_count": 0,
      "outputs": []
    },
    {
      "cell_type": "code",
      "metadata": {
        "id": "hrVcJQgmXAbO",
        "colab_type": "code",
        "colab": {}
      },
      "source": [
        "\n",
        "# data before preprocessing \n",
        "df2.head()\n"
      ],
      "execution_count": 0,
      "outputs": []
    },
    {
      "cell_type": "code",
      "metadata": {
        "id": "-9XlyXnXXDFT",
        "colab_type": "code",
        "colab": {}
      },
      "source": [
        "\n",
        "# Questions 1 tfidf weighted word2vec\n",
        "df3_q1.head()\n"
      ],
      "execution_count": 0,
      "outputs": []
    },
    {
      "cell_type": "code",
      "metadata": {
        "id": "Sb_7LDVNXFME",
        "colab_type": "code",
        "colab": {}
      },
      "source": [
        "\n",
        "# Questions 2 tfidf weighted word2vec\n",
        "df3_q2.head()\n"
      ],
      "execution_count": 0,
      "outputs": []
    },
    {
      "cell_type": "code",
      "metadata": {
        "id": "ny-NgGkMXJAz",
        "colab_type": "code",
        "colab": {}
      },
      "source": [
        "\n",
        "print(\"Number of features in nlp dataframe :\", df1.shape[1])\n",
        "print(\"Number of features in preprocessed dataframe :\", df2.shape[1])\n",
        "print(\"Number of features in question1 w2v  dataframe :\", df3_q1.shape[1])\n",
        "print(\"Number of features in question2 w2v  dataframe :\", df3_q2.shape[1])\n",
        "print(\"Number of features in final dataframe  :\", df1.shape[1]+df2.shape[1]+df3_q1.shape[1]+df3_q2.shape[1])\n"
      ],
      "execution_count": 0,
      "outputs": []
    },
    {
      "cell_type": "code",
      "metadata": {
        "id": "5x-laG5YXLQs",
        "colab_type": "code",
        "colab": {}
      },
      "source": [
        "\n",
        "# storing the final features to csv file\n",
        "if not os.path.isfile('final_features.csv'):\n",
        "    df3_q1['id']=df1['id']\n",
        "    df3_q2['id']=df1['id']\n",
        "    df1  = df1.merge(df2, on='id',how='left')\n",
        "    df2  = df3_q1.merge(df3_q2, on='id',how='left')\n",
        "    result  = df1.merge(df2, on='id',how='left')\n",
        "    result.to_csv('final_features.csv')\n"
      ],
      "execution_count": 0,
      "outputs": []
    },
    {
      "cell_type": "markdown",
      "metadata": {
        "id": "WgRHRkxFXkbT",
        "colab_type": "text"
      },
      "source": [
        "# (3) Machine Learning Models"
      ]
    },
    {
      "cell_type": "code",
      "metadata": {
        "id": "ieGUTrpPXZTS",
        "colab_type": "code",
        "colab": {}
      },
      "source": [
        "#importing various Libraries:\n",
        "\n",
        "import pandas as pd\n",
        "import matplotlib.pyplot as plt\n",
        "import re\n",
        "import time\n",
        "import sqlite3\n",
        "from sqlalchemy import create_engine # database connection\n",
        "import csv\n",
        "import warnings\n",
        "warnings.filterwarnings(\"ignore\")\n",
        "import datetime as dt\n",
        "import numpy as np\n",
        "from nltk.corpus import stopwords\n",
        "from sklearn.decomposition import TruncatedSVD\n",
        "from sklearn.preprocessing import normalize\n",
        "from sklearn.feature_extraction.text import CountVectorizer\n",
        "from sklearn.manifold import TSNE\n",
        "import seaborn as sns\n",
        "from sklearn.neighbors import KNeighborsClassifier\n",
        "from sklearn.metrics import confusion_matrix\n",
        "from sklearn.metrics.classification import accuracy_score, log_loss\n",
        "from sklearn.feature_extraction.text import TfidfVectorizer\n",
        "from collections import Counter\n",
        "from scipy.sparse import hstack\n",
        "from sklearn.multiclass import OneVsRestClassifier\n",
        "from sklearn.svm import SVC\n",
        "from sklearn import model_selection\n",
        "from sklearn.model_selection import StratifiedKFold \n",
        "from collections import Counter, defaultdict\n",
        "from sklearn.calibration import CalibratedClassifierCV\n",
        "from sklearn.naive_bayes import MultinomialNB\n",
        "from sklearn.naive_bayes import GaussianNB\n",
        "from sklearn.model_selection import train_test_split\n",
        "from sklearn.model_selection import GridSearchCV\n",
        "import math\n",
        "from sklearn.metrics import normalized_mutual_info_score\n",
        "from sklearn.ensemble import RandomForestClassifier\n",
        "\n",
        "\n",
        "\n",
        "from sklearn.model_selection import cross_val_score\n",
        "from sklearn.linear_model import SGDClassifier\n",
        "from mlxtend.classifier import StackingClassifier\n",
        "\n",
        "from sklearn import model_selection\n",
        "from sklearn.linear_model import LogisticRegression\n",
        "from sklearn.metrics import precision_recall_curve, auc, roc_curve\n",
        "\n",
        "!pip install mlxtend\n",
        "\n"
      ],
      "execution_count": 0,
      "outputs": []
    },
    {
      "cell_type": "markdown",
      "metadata": {
        "id": "4KkLiBVPX2Bc",
        "colab_type": "text"
      },
      "source": [
        "## (3.1) Reading data from file and storing into sql table"
      ]
    },
    {
      "cell_type": "code",
      "metadata": {
        "id": "clsv1QYKXs-8",
        "colab_type": "code",
        "colab": {}
      },
      "source": [
        "#Creating db file from csv\n",
        "if not os.path.isfile('train.db'):\n",
        "    disk_engine = create_engine('sqlite:///train.db')\n",
        "    start = dt.datetime.now()\n",
        "    chunksize = 180000\n",
        "    j = 0\n",
        "    index_start = 1\n",
        "    for df in pd.read_csv('final_features.csv', names=['Unnamed: 0','id','is_duplicate','cwc_min','cwc_max','csc_min','csc_max','ctc_min','ctc_max','last_word_eq','first_word_eq','abs_len_diff','mean_len','token_set_ratio','token_sort_ratio','fuzz_ratio','fuzz_partial_ratio','longest_substr_ratio','freq_qid1','freq_qid2','q1len','q2len','q1_n_words','q2_n_words','word_Common','word_Total','word_share','freq_q1+q2','freq_q1-q2','0_x','1_x','2_x','3_x','4_x','5_x','6_x','7_x','8_x','9_x','10_x','11_x','12_x','13_x','14_x','15_x','16_x','17_x','18_x','19_x','20_x','21_x','22_x','23_x','24_x','25_x','26_x','27_x','28_x','29_x','30_x','31_x','32_x','33_x','34_x','35_x','36_x','37_x','38_x','39_x','40_x','41_x','42_x','43_x','44_x','45_x','46_x','47_x','48_x','49_x','50_x','51_x','52_x','53_x','54_x','55_x','56_x','57_x','58_x','59_x','60_x','61_x','62_x','63_x','64_x','65_x','66_x','67_x','68_x','69_x','70_x','71_x','72_x','73_x','74_x','75_x','76_x','77_x','78_x','79_x','80_x','81_x','82_x','83_x','84_x','85_x','86_x','87_x','88_x','89_x','90_x','91_x','92_x','93_x','94_x','95_x','96_x','97_x','98_x','99_x','100_x','101_x','102_x','103_x','104_x','105_x','106_x','107_x','108_x','109_x','110_x','111_x','112_x','113_x','114_x','115_x','116_x','117_x','118_x','119_x','120_x','121_x','122_x','123_x','124_x','125_x','126_x','127_x','128_x','129_x','130_x','131_x','132_x','133_x','134_x','135_x','136_x','137_x','138_x','139_x','140_x','141_x','142_x','143_x','144_x','145_x','146_x','147_x','148_x','149_x','150_x','151_x','152_x','153_x','154_x','155_x','156_x','157_x','158_x','159_x','160_x','161_x','162_x','163_x','164_x','165_x','166_x','167_x','168_x','169_x','170_x','171_x','172_x','173_x','174_x','175_x','176_x','177_x','178_x','179_x','180_x','181_x','182_x','183_x','184_x','185_x','186_x','187_x','188_x','189_x','190_x','191_x','192_x','193_x','194_x','195_x','196_x','197_x','198_x','199_x','200_x','201_x','202_x','203_x','204_x','205_x','206_x','207_x','208_x','209_x','210_x','211_x','212_x','213_x','214_x','215_x','216_x','217_x','218_x','219_x','220_x','221_x','222_x','223_x','224_x','225_x','226_x','227_x','228_x','229_x','230_x','231_x','232_x','233_x','234_x','235_x','236_x','237_x','238_x','239_x','240_x','241_x','242_x','243_x','244_x','245_x','246_x','247_x','248_x','249_x','250_x','251_x','252_x','253_x','254_x','255_x','256_x','257_x','258_x','259_x','260_x','261_x','262_x','263_x','264_x','265_x','266_x','267_x','268_x','269_x','270_x','271_x','272_x','273_x','274_x','275_x','276_x','277_x','278_x','279_x','280_x','281_x','282_x','283_x','284_x','285_x','286_x','287_x','288_x','289_x','290_x','291_x','292_x','293_x','294_x','295_x','296_x','297_x','298_x','299_x','300_x','301_x','302_x','303_x','304_x','305_x','306_x','307_x','308_x','309_x','310_x','311_x','312_x','313_x','314_x','315_x','316_x','317_x','318_x','319_x','320_x','321_x','322_x','323_x','324_x','325_x','326_x','327_x','328_x','329_x','330_x','331_x','332_x','333_x','334_x','335_x','336_x','337_x','338_x','339_x','340_x','341_x','342_x','343_x','344_x','345_x','346_x','347_x','348_x','349_x','350_x','351_x','352_x','353_x','354_x','355_x','356_x','357_x','358_x','359_x','360_x','361_x','362_x','363_x','364_x','365_x','366_x','367_x','368_x','369_x','370_x','371_x','372_x','373_x','374_x','375_x','376_x','377_x','378_x','379_x','380_x','381_x','382_x','383_x','0_y','1_y','2_y','3_y','4_y','5_y','6_y','7_y','8_y','9_y','10_y','11_y','12_y','13_y','14_y','15_y','16_y','17_y','18_y','19_y','20_y','21_y','22_y','23_y','24_y','25_y','26_y','27_y','28_y','29_y','30_y','31_y','32_y','33_y','34_y','35_y','36_y','37_y','38_y','39_y','40_y','41_y','42_y','43_y','44_y','45_y','46_y','47_y','48_y','49_y','50_y','51_y','52_y','53_y','54_y','55_y','56_y','57_y','58_y','59_y','60_y','61_y','62_y','63_y','64_y','65_y','66_y','67_y','68_y','69_y','70_y','71_y','72_y','73_y','74_y','75_y','76_y','77_y','78_y','79_y','80_y','81_y','82_y','83_y','84_y','85_y','86_y','87_y','88_y','89_y','90_y','91_y','92_y','93_y','94_y','95_y','96_y','97_y','98_y','99_y','100_y','101_y','102_y','103_y','104_y','105_y','106_y','107_y','108_y','109_y','110_y','111_y','112_y','113_y','114_y','115_y','116_y','117_y','118_y','119_y','120_y','121_y','122_y','123_y','124_y','125_y','126_y','127_y','128_y','129_y','130_y','131_y','132_y','133_y','134_y','135_y','136_y','137_y','138_y','139_y','140_y','141_y','142_y','143_y','144_y','145_y','146_y','147_y','148_y','149_y','150_y','151_y','152_y','153_y','154_y','155_y','156_y','157_y','158_y','159_y','160_y','161_y','162_y','163_y','164_y','165_y','166_y','167_y','168_y','169_y','170_y','171_y','172_y','173_y','174_y','175_y','176_y','177_y','178_y','179_y','180_y','181_y','182_y','183_y','184_y','185_y','186_y','187_y','188_y','189_y','190_y','191_y','192_y','193_y','194_y','195_y','196_y','197_y','198_y','199_y','200_y','201_y','202_y','203_y','204_y','205_y','206_y','207_y','208_y','209_y','210_y','211_y','212_y','213_y','214_y','215_y','216_y','217_y','218_y','219_y','220_y','221_y','222_y','223_y','224_y','225_y','226_y','227_y','228_y','229_y','230_y','231_y','232_y','233_y','234_y','235_y','236_y','237_y','238_y','239_y','240_y','241_y','242_y','243_y','244_y','245_y','246_y','247_y','248_y','249_y','250_y','251_y','252_y','253_y','254_y','255_y','256_y','257_y','258_y','259_y','260_y','261_y','262_y','263_y','264_y','265_y','266_y','267_y','268_y','269_y','270_y','271_y','272_y','273_y','274_y','275_y','276_y','277_y','278_y','279_y','280_y','281_y','282_y','283_y','284_y','285_y','286_y','287_y','288_y','289_y','290_y','291_y','292_y','293_y','294_y','295_y','296_y','297_y','298_y','299_y','300_y','301_y','302_y','303_y','304_y','305_y','306_y','307_y','308_y','309_y','310_y','311_y','312_y','313_y','314_y','315_y','316_y','317_y','318_y','319_y','320_y','321_y','322_y','323_y','324_y','325_y','326_y','327_y','328_y','329_y','330_y','331_y','332_y','333_y','334_y','335_y','336_y','337_y','338_y','339_y','340_y','341_y','342_y','343_y','344_y','345_y','346_y','347_y','348_y','349_y','350_y','351_y','352_y','353_y','354_y','355_y','356_y','357_y','358_y','359_y','360_y','361_y','362_y','363_y','364_y','365_y','366_y','367_y','368_y','369_y','370_y','371_y','372_y','373_y','374_y','375_y','376_y','377_y','378_y','379_y','380_y','381_y','382_y','383_y'], chunksize=chunksize, iterator=True, encoding='utf-8', ):\n",
        "        df.index += index_start\n",
        "        j+=1\n",
        "        print('{} rows'.format(j*chunksize))\n",
        "        df.to_sql('data', disk_engine, if_exists='append')\n",
        "        index_start = df.index[-1] + 1\n"
      ],
      "execution_count": 0,
      "outputs": []
    },
    {
      "cell_type": "code",
      "metadata": {
        "id": "GlivsNQpX8nL",
        "colab_type": "code",
        "colab": {}
      },
      "source": [
        "def create_connection(db_file):\n",
        "    \"\"\" create a database connection to the SQLite database\n",
        "        specified by db_file\n",
        "    :param db_file: database file\n",
        "    :return: Connection object or None\n",
        "    \"\"\"\n",
        "    try:\n",
        "        conn = sqlite3.connect(db_file)\n",
        "        return conn\n",
        "    except Error as e:\n",
        "        print(e)\n",
        " \n",
        "    return None\n",
        "\n",
        "\n",
        "def checkTableExists(dbcon):\n",
        "    cursr = dbcon.cursor()\n",
        "    str = \"select name from sqlite_master where type='table'\"\n",
        "    table_names = cursr.execute(str)\n",
        "    print(\"Tables in the databse:\")\n",
        "    tables =table_names.fetchall() \n",
        "    print(tables[0][0])\n",
        "    return(len(tables))\n",
        "\n"
      ],
      "execution_count": 0,
      "outputs": []
    },
    {
      "cell_type": "code",
      "metadata": {
        "id": "XYuS4rrbYCfJ",
        "colab_type": "code",
        "colab": {}
      },
      "source": [
        "read_db = 'train.db'\n",
        "conn_r = create_connection(read_db)\n",
        "checkTableExists(conn_r)\n",
        "conn_r.close()"
      ],
      "execution_count": 0,
      "outputs": []
    },
    {
      "cell_type": "code",
      "metadata": {
        "id": "RwvuohPcYJSm",
        "colab_type": "code",
        "colab": {}
      },
      "source": [
        "# try to sample data according to the computing power\n",
        "if os.path.isfile(read_db):\n",
        "    conn_r = create_connection(read_db)\n",
        "    if conn_r is not None:\n",
        "        # for selecting first 1M rows\n",
        "        # data = pd.read_sql_query(\"\"\"SELECT * FROM data LIMIT 100001;\"\"\", conn_r)\n",
        "        \n",
        "        # for selecting random points\n",
        "        data = pd.read_sql_query(\"SELECT * From data ORDER BY RANDOM() LIMIT 100001;\", conn_r)\n",
        "        conn_r.commit()\n",
        "        conn_r.close()\n"
      ],
      "execution_count": 0,
      "outputs": []
    },
    {
      "cell_type": "code",
      "metadata": {
        "id": "9opOaEJyYOU8",
        "colab_type": "code",
        "colab": {}
      },
      "source": [
        "\n",
        "# remove the first row \n",
        "data.drop(data.index[0], inplace=True)\n",
        "y_true = data['is_duplicate']\n",
        "data.drop(['Unnamed: 0', 'id','index','is_duplicate'], axis=1, inplace=True)"
      ],
      "execution_count": 0,
      "outputs": []
    },
    {
      "cell_type": "code",
      "metadata": {
        "id": "_E07n0TQYXbz",
        "colab_type": "code",
        "colab": {}
      },
      "source": [
        "data.head()"
      ],
      "execution_count": 0,
      "outputs": []
    },
    {
      "cell_type": "markdown",
      "metadata": {
        "id": "Zwqdb8umYaqO",
        "colab_type": "text"
      },
      "source": [
        "## (3.2) Converting strings to numerics"
      ]
    },
    {
      "cell_type": "code",
      "metadata": {
        "id": "kZBsYqmPYT_F",
        "colab_type": "code",
        "colab": {}
      },
      "source": [
        "cols = list(data.columns)\n",
        "for i in cols:\n",
        "    data[i] = data[i].apply(pd.to_numeric)\n",
        "    print(i)"
      ],
      "execution_count": 0,
      "outputs": []
    },
    {
      "cell_type": "code",
      "metadata": {
        "id": "VDQoGcn7Yuyg",
        "colab_type": "code",
        "colab": {}
      },
      "source": [
        "y_true = list(map(int, y_true.values))"
      ],
      "execution_count": 0,
      "outputs": []
    },
    {
      "cell_type": "markdown",
      "metadata": {
        "id": "8SrvynyQYqQR",
        "colab_type": "text"
      },
      "source": [
        "## (3.3) Random train test split"
      ]
    },
    {
      "cell_type": "code",
      "metadata": {
        "id": "JjbQgklmYisJ",
        "colab_type": "code",
        "colab": {}
      },
      "source": [
        "X_train,X_test, y_train, y_test = train_test_split(data, y_true, stratify=y_true, test_size=0.3)"
      ],
      "execution_count": 0,
      "outputs": []
    },
    {
      "cell_type": "code",
      "metadata": {
        "id": "7SF73Xh3Y-Ii",
        "colab_type": "code",
        "colab": {}
      },
      "source": [
        "print(\"Number of data points in train data :\",X_train.shape)\n",
        "print(\"Number of data points in test data :\",X_test.shape)\n"
      ],
      "execution_count": 0,
      "outputs": []
    },
    {
      "cell_type": "code",
      "metadata": {
        "id": "ak88WIGwY2Ra",
        "colab_type": "code",
        "colab": {}
      },
      "source": [
        "print(\"-\"*10, \"Distribution of output variable in train data\", \"-\"*10)\n",
        "train_distr = Counter(y_train)\n",
        "train_len = len(y_train)\n",
        "print(\"Class 0: \",int(train_distr[0])/train_len,\"Class 1: \", int(train_distr[1])/train_len)\n",
        "print(\"-\"*10, \"Distribution of output variable in train data\", \"-\"*10)\n",
        "test_distr = Counter(y_test)\n",
        "test_len = len(y_test)\n",
        "print(\"Class 0: \",int(test_distr[1])/test_len, \"Class 1: \",int(test_distr[1])/test_len)\n"
      ],
      "execution_count": 0,
      "outputs": []
    },
    {
      "cell_type": "code",
      "metadata": {
        "id": "UgfzkNJ2ZCtp",
        "colab_type": "code",
        "colab": {}
      },
      "source": [
        "\n",
        "# This function plots the confusion matrices given y_i, y_i_hat.\n",
        "def plot_confusion_matrix(test_y, predict_y):\n",
        "    C = confusion_matrix(test_y, predict_y)\n",
        "    \n",
        "    A =(((C.T)/(C.sum(axis=1))).T)\n",
        "    \n",
        "    plt.figure(figsize=(20,4))\n",
        "    \n",
        "    labels = [1,2]\n",
        "    \n",
        "    # representing A in heatmap format\n",
        "    cmap=sns.light_palette(\"blue\")\n",
        "    plt.subplot(1, 3, 1)\n",
        "    sns.heatmap(C, annot=True, cmap=cmap, fmt=\".3f\", xticklabels=labels, yticklabels=labels)\n",
        "    plt.xlabel('Predicted Class')\n",
        "    plt.ylabel('Original Class')\n",
        "    plt.title(\"Confusion matrix\")\n",
        "    \n",
        "    plt.subplot(1, 3, 2)\n",
        "    sns.heatmap(B, annot=True, cmap=cmap, fmt=\".3f\", xticklabels=labels, yticklabels=labels)\n",
        "    plt.xlabel('Predicted Class')\n",
        "    plt.ylabel('Original Class')\n",
        "    plt.title(\"Precision matrix\")\n",
        "    \n",
        "    plt.subplot(1, 3, 3)\n",
        "    # representing B in heatmap format\n",
        "    sns.heatmap(A, annot=True, cmap=cmap, fmt=\".3f\", xticklabels=labels, yticklabels=labels)\n",
        "    plt.xlabel('Predicted Class')\n",
        "    plt.ylabel('Original Class')\n",
        "    plt.title(\"Recall matrix\")\n",
        "    \n",
        "    plt.show()"
      ],
      "execution_count": 0,
      "outputs": []
    },
    {
      "cell_type": "markdown",
      "metadata": {
        "id": "vQf7MfvpZYzc",
        "colab_type": "text"
      },
      "source": [
        "## (3.4) Building a random model (Finding worst-case log-loss)"
      ]
    },
    {
      "cell_type": "code",
      "metadata": {
        "id": "kP2jJiXVZQ8b",
        "colab_type": "code",
        "colab": {}
      },
      "source": [
        "predicted_y = np.zeros((test_len,2))\n",
        "for i in range(test_len):\n",
        "    rand_probs = np.random.rand(1,2)\n",
        "    predicted_y[i] = ((rand_probs/sum(sum(rand_probs)))[0])\n",
        "print(\"Log loss on Test Data using Random Model\",log_loss(y_test, predicted_y, eps=1e-15))\n",
        "\n",
        "predicted_y =np.argmax(predicted_y, axis=1)\n",
        "plot_confusion_matrix(y_test, predicted_y)"
      ],
      "execution_count": 0,
      "outputs": []
    },
    {
      "cell_type": "markdown",
      "metadata": {
        "id": "0h6C7js4Zg9y",
        "colab_type": "text"
      },
      "source": [
        "## (3.5) Logistic Regression with hyperparameter tuning"
      ]
    },
    {
      "cell_type": "code",
      "metadata": {
        "id": "wqQQRA_sZVM4",
        "colab_type": "code",
        "colab": {}
      },
      "source": [
        "alpha = [10 ** x for x in range(-5, 2)] # hyperparam for SGD classifier.\n",
        "\n",
        "log_error_array=[]\n",
        "for i in alpha:\n",
        "    clf = SGDClassifier(alpha=i, penalty='l2', loss='log', random_state=42)\n",
        "    clf.fit(X_train, y_train)\n",
        "    sig_clf = CalibratedClassifierCV(clf, method=\"sigmoid\")\n",
        "    sig_clf.fit(X_train, y_train)\n",
        "    predict_y = sig_clf.predict_proba(X_test)\n",
        "    log_error_array.append(log_loss(y_test, predict_y, labels=clf.classes_, eps=1e-15))\n",
        "    print('For values of alpha = ', i, \"The log loss is:\",log_loss(y_test, predict_y, labels=clf.classes_, eps=1e-15))\n",
        "\n",
        "fig, ax = plt.subplots()\n",
        "ax.plot(alpha, log_error_array,c='g')\n",
        "for i, txt in enumerate(np.round(log_error_array,3)):\n",
        "    ax.annotate((alpha[i],np.round(txt,3)), (alpha[i],log_error_array[i]))\n",
        "plt.grid()\n",
        "plt.title(\"Cross Validation Error for each alpha\")\n",
        "plt.xlabel(\"Alpha i's\")\n",
        "plt.ylabel(\"Error measure\")\n",
        "plt.show()\n",
        "\n",
        "\n",
        "best_alpha = np.argmin(log_error_array)\n",
        "clf = SGDClassifier(alpha=alpha[best_alpha], penalty='l2', loss='log', random_state=42)\n",
        "clf.fit(X_train, y_train)\n",
        "sig_clf = CalibratedClassifierCV(clf, method=\"sigmoid\")\n",
        "sig_clf.fit(X_train, y_train)\n",
        "\n",
        "predict_y = sig_clf.predict_proba(X_train)\n",
        "print('For values of best alpha = ', alpha[best_alpha], \"The train log loss is:\",log_loss(y_train, predict_y, labels=clf.classes_, eps=1e-15))\n",
        "predict_y = sig_clf.predict_proba(X_test)\n",
        "print('For values of best alpha = ', alpha[best_alpha], \"The test log loss is:\",log_loss(y_test, predict_y, labels=clf.classes_, eps=1e-15))\n",
        "predicted_y =np.argmax(predict_y,axis=1)\n",
        "print(\"Total number of data points :\", len(predicted_y))\n",
        "plot_confusion_matrix(y_test, predicted_y)"
      ],
      "execution_count": 0,
      "outputs": []
    },
    {
      "cell_type": "code",
      "metadata": {
        "id": "Gy98voCJkLXC",
        "colab_type": "code",
        "colab": {}
      },
      "source": [
        "\n",
        "from sklearn.preprocessing import StandardScaler\n",
        "scale = StandardScaler()\n",
        "X_train_std = scale.fit_transform(X_train)\n",
        "X_test_std = scale.transform(X_test)\n",
        "\n",
        "\n",
        "alpha = [10 ** x for x in range(-5, 2)] # hyperparam for SGD classifier.\n",
        "\n",
        "log_error_array=[]\n",
        "for i in alpha:\n",
        "    clf = SGDClassifier(alpha=i, penalty='l2', loss='log', random_state=42)\n",
        "    clf.fit(X_train_std, y_train)\n",
        "    sig_clf = CalibratedClassifierCV(clf, method=\"sigmoid\")\n",
        "    sig_clf.fit(X_train_std, y_train)\n",
        "    predict_y = sig_clf.predict_proba(X_test_std)\n",
        "    log_error_array.append(log_loss(y_test, predict_y, labels=clf.classes_, eps=1e-15))\n",
        "    print('For values of alpha = ', i, \"The log loss is:\",log_loss(y_test, predict_y, labels=clf.classes_, eps=1e-15))\n",
        "\n",
        "fig, ax = plt.subplots()\n",
        "ax.plot(alpha, log_error_array,c='g')\n",
        "for i, txt in enumerate(np.round(log_error_array,3)):\n",
        "    ax.annotate((alpha[i],np.round(txt,3)), (alpha[i],log_error_array[i]))\n",
        "plt.grid()\n",
        "plt.title(\"Cross Validation Error for each alpha\")\n",
        "plt.xlabel(\"Alpha i's\")\n",
        "plt.ylabel(\"Error measure\")\n",
        "plt.show()\n",
        "\n",
        "\n",
        "best_alpha = np.argmin(log_error_array)\n",
        "clf = SGDClassifier(alpha=alpha[best_alpha], penalty='l2', loss='log', random_state=42)\n",
        "clf.fit(X_train_std, y_train)\n",
        "sig_clf = CalibratedClassifierCV(clf, method=\"sigmoid\")\n",
        "sig_clf.fit(X_train_std, y_train)\n",
        "\n",
        "predict_y = sig_clf.predict_proba(X_train_std)\n",
        "print('For values of best alpha = ', alpha[best_alpha], \"The train log loss is:\",log_loss(y_train, predict_y, labels=clf.classes_, eps=1e-15))\n",
        "predict_y = sig_clf.predict_proba(X_test_std)\n",
        "print('For values of best alpha = ', alpha[best_alpha], \"The test log loss is:\",log_loss(y_test, predict_y, labels=clf.classes_, eps=1e-15))\n",
        "predicted_y =np.argmax(predict_y,axis=1)\n",
        "print(\"Total number of data points :\", len(predicted_y))\n",
        "plot_confusion_matrix(y_test, predicted_y)\n"
      ],
      "execution_count": 0,
      "outputs": []
    },
    {
      "cell_type": "markdown",
      "metadata": {
        "id": "ms_v88AIk_O_",
        "colab_type": "text"
      },
      "source": [
        "## (3.6) Linear SVM with hyperparameter tuning"
      ]
    },
    {
      "cell_type": "code",
      "metadata": {
        "id": "NkJpmbzzktIw",
        "colab_type": "code",
        "colab": {}
      },
      "source": [
        "alpha = [10 ** x for x in range(-5, 2)] # hyperparam for SGD classifier.\n",
        "\n",
        "log_error_array=[]\n",
        "for i in alpha:\n",
        "    clf = SGDClassifier(alpha=i, penalty='l1', loss='hinge', random_state=42)\n",
        "    clf.fit(X_train, y_train)\n",
        "    sig_clf = CalibratedClassifierCV(clf, method=\"sigmoid\")\n",
        "    sig_clf.fit(X_train, y_train)\n",
        "    predict_y = sig_clf.predict_proba(X_test)\n",
        "    log_error_array.append(log_loss(y_test, predict_y, labels=clf.classes_, eps=1e-15))\n",
        "    print('For values of alpha = ', i, \"The log loss is:\",log_loss(y_test, predict_y, labels=clf.classes_, eps=1e-15))\n",
        "\n",
        "fig, ax = plt.subplots()\n",
        "ax.plot(alpha, log_error_array,c='g')\n",
        "for i, txt in enumerate(np.round(log_error_array,3)):\n",
        "    ax.annotate((alpha[i],np.round(txt,3)), (alpha[i],log_error_array[i]))\n",
        "plt.grid()\n",
        "plt.title(\"Cross Validation Error for each alpha\")\n",
        "plt.xlabel(\"Alpha i's\")\n",
        "plt.ylabel(\"Error measure\")\n",
        "plt.show()\n",
        "\n",
        "\n",
        "best_alpha = np.argmin(log_error_array)\n",
        "clf = SGDClassifier(alpha=alpha[best_alpha], penalty='l1', loss='hinge', random_state=42)\n",
        "clf.fit(X_train, y_train)\n",
        "sig_clf = CalibratedClassifierCV(clf, method=\"sigmoid\")\n",
        "sig_clf.fit(X_train, y_train)\n",
        "\n",
        "predict_y = sig_clf.predict_proba(X_train)\n",
        "print('For values of best alpha = ', alpha[best_alpha], \"The train log loss is:\",log_loss(y_train, predict_y, labels=clf.classes_, eps=1e-15))\n",
        "predict_y = sig_clf.predict_proba(X_test)\n",
        "print('For values of best alpha = ', alpha[best_alpha], \"The test log loss is:\",log_loss(y_test, predict_y, labels=clf.classes_, eps=1e-15))\n",
        "predicted_y =np.argmax(predict_y,axis=1)\n",
        "print(\"Total number of data points :\", len(predicted_y))\n",
        "plot_confusion_matrix(y_test, predicted_y)\n",
        "\n"
      ],
      "execution_count": 0,
      "outputs": []
    },
    {
      "cell_type": "code",
      "metadata": {
        "id": "T16EHjjIlOQY",
        "colab_type": "code",
        "colab": {}
      },
      "source": [
        "from sklearn.preprocessing import StandardScaler\n",
        "scale = StandardScaler()\n",
        "X_train_std_std = scale.fit_transform(X_train)\n",
        "X_test_std_std = scale.transform(X_test)\n",
        "\n",
        "alpha = [10 ** x for x in range(-5, 2)] # hyperparam for SGD classifier.\n",
        "\n",
        "log_error_array=[]\n",
        "for i in alpha:\n",
        "    clf = SGDClassifier(alpha=i, penalty='l1', loss='hinge', random_state=42)\n",
        "    clf.fit(X_train_std, y_train)\n",
        "    sig_clf = CalibratedClassifierCV(clf, method=\"sigmoid\")\n",
        "    sig_clf.fit(X_train_std, y_train)\n",
        "    predict_y = sig_clf.predict_proba(X_test_std)\n",
        "    log_error_array.append(log_loss(y_test, predict_y, labels=clf.classes_, eps=1e-15))\n",
        "    print('For values of alpha = ', i, \"The log loss is:\",log_loss(y_test, predict_y, labels=clf.classes_, eps=1e-15))\n",
        "\n",
        "fig, ax = plt.subplots()\n",
        "ax.plot(alpha, log_error_array,c='g')\n",
        "for i, txt in enumerate(np.round(log_error_array,3)):\n",
        "    ax.annotate((alpha[i],np.round(txt,3)), (alpha[i],log_error_array[i]))\n",
        "plt.grid()\n",
        "plt.title(\"Cross Validation Error for each alpha\")\n",
        "plt.xlabel(\"Alpha i's\")\n",
        "plt.ylabel(\"Error measure\")\n",
        "plt.show()\n",
        "\n",
        "\n",
        "best_alpha = np.argmin(log_error_array)\n",
        "clf = SGDClassifier(alpha=alpha[best_alpha], penalty='l1', loss='hinge', random_state=42)\n",
        "clf.fit(X_train_std, y_train)\n",
        "sig_clf = CalibratedClassifierCV(clf, method=\"sigmoid\")\n",
        "sig_clf.fit(X_train_std, y_train)\n",
        "\n",
        "predict_y = sig_clf.predict_proba(X_train_std)\n",
        "print('For values of best alpha = ', alpha[best_alpha], \"The train log loss is:\",log_loss(y_train, predict_y, labels=clf.classes_, eps=1e-15))\n",
        "predict_y = sig_clf.predict_proba(X_test_std)\n",
        "print('For values of best alpha = ', alpha[best_alpha], \"The test log loss is:\",log_loss(y_test, predict_y, labels=clf.classes_, eps=1e-15))\n",
        "predicted_y =np.argmax(predict_y,axis=1)\n",
        "print(\"Total number of data points :\", len(predicted_y))\n",
        "plot_confusion_matrix(y_test, predicted_y)"
      ],
      "execution_count": 0,
      "outputs": []
    },
    {
      "cell_type": "markdown",
      "metadata": {
        "id": "xxzv33P0lkoO",
        "colab_type": "text"
      },
      "source": [
        "## (3.7) Random Forest"
      ]
    },
    {
      "cell_type": "code",
      "metadata": {
        "id": "qCfAaHBhle-Y",
        "colab_type": "code",
        "colab": {}
      },
      "source": [
        "from sklearn.ensemble import RandomForestClassifier\n",
        "\n",
        "estimators = [100,150,200,300,400,600,800,1000]#parameter tuning of n_estimators\n",
        "test_scores = []\n",
        "train_scores = []\n",
        "for i in estimators:\n",
        "    clf = RandomForestClassifier(n_estimators=i,n_jobs=-1)\n",
        "    clf.fit(X_train,y_train)\n",
        "    predict_y = clf.predict_proba(X_train)\n",
        "    log_loss_train = log_loss(y_train, predict_y, eps=1e-15)\n",
        "    train_scores.append(log_loss_train)\n",
        "    predict_y = clf.predict_proba(X_test)\n",
        "    log_loss_test = log_loss(y_test, predict_y, eps=1e-15)\n",
        "    test_scores.append(log_loss_test)\n",
        "    print('estimators = ',i,'\\Train Log Loss ',log_loss_train,'\\Test Log Loss ',log_loss_test,'\\Loss difference between Test and Train',(log_loss_test-log_loss_train))\n",
        "plt.plot(estimators,train_scores,label='Train Log Loss')\n",
        "plt.plot(estimators,test_scores,label='Test Log Loss')\n",
        "plt.xlabel('estimators')\n",
        "plt.ylabel('Log Loss')\n",
        "\n"
      ],
      "execution_count": 0,
      "outputs": []
    },
    {
      "cell_type": "code",
      "metadata": {
        "id": "60WTpAl3ltcp",
        "colab_type": "code",
        "colab": {}
      },
      "source": [
        "from sklearn.ensemble import RandomForestClassifier\n",
        "max_depth = [5,10,12,15,20,25,50]#parameter tuning of max_depth\n",
        "test_scores = []\n",
        "train_scores = []\n",
        "for i in max_depth:\n",
        "    clf = RandomForestClassifier(n_estimators=200,max_depth=i,n_jobs=-1)\n",
        "    clf.fit(X_train,y_train)\n",
        "    predict_y = clf.predict_proba(X_train)\n",
        "    log_loss_train = log_loss(y_train, predict_y, eps=1e-15)\n",
        "    train_scores.append(log_loss_train)\n",
        "    predict_y = clf.predict_proba(X_test)\n",
        "    log_loss_test = log_loss(y_test, predict_y, eps=1e-15)\n",
        "    test_scores.append(log_loss_test)\n",
        "    print('max_depth = ',i,'\\Train Log Loss ',log_loss_train,'\\Test Log Loss ',log_loss_test,'\\Loss difference between Test and Train',(log_loss_test-log_loss_train))\n",
        "plt.plot(max_depth,train_scores,label='Train Log Loss')\n",
        "plt.plot(max_depth,test_scores,label='Test Log Loss')\n",
        "plt.xlabel('estimators') \n",
        "plt.ylabel('Log Loss')\n"
      ],
      "execution_count": 0,
      "outputs": []
    },
    {
      "cell_type": "markdown",
      "metadata": {
        "id": "orU537X7l6oN",
        "colab_type": "text"
      },
      "source": [
        "## (3.8) XGBoost"
      ]
    },
    {
      "cell_type": "code",
      "metadata": {
        "id": "5beSgS_zlzQX",
        "colab_type": "code",
        "colab": {}
      },
      "source": [
        "import xgboost as xgb\n",
        "params = {}\n",
        "params['objective'] = 'binary:logistic'\n",
        "params['eval_metric'] = 'logloss'\n",
        "params['eta'] = 0.02\n",
        "params['max_depth'] = 4\n",
        "\n",
        "d_train = xgb.DMatrix(X_train, label=y_train)\n",
        "d_test = xgb.DMatrix(X_test, label=y_test)\n",
        "\n",
        "watchlist = [(d_train, 'train'), (d_test, 'valid')]\n",
        "\n",
        "bst = xgb.train(params, d_train, 400, watchlist, early_stopping_rounds=20, verbose_eval=10)\n",
        "\n",
        "xgdmat = xgb.DMatrix(X_train,y_train)\n",
        "predict_y = bst.predict(d_test)\n",
        "print(\"The test log loss is:\",log_loss(y_test, predict_y, labels=clf.classes_, eps=1e-15))\n"
      ],
      "execution_count": 0,
      "outputs": []
    },
    {
      "cell_type": "code",
      "metadata": {
        "id": "NMeNonopmES3",
        "colab_type": "code",
        "colab": {}
      },
      "source": [
        "\n",
        "predicted_y =np.array(predict_y>0.5,dtype=int)\n",
        "print(\"Total number of data points :\", len(predicted_y))\n",
        "plot_confusion_matrix(y_test, predicted_y)\n"
      ],
      "execution_count": 0,
      "outputs": []
    },
    {
      "cell_type": "code",
      "metadata": {
        "id": "uxWLjUd8mx4w",
        "colab_type": "code",
        "colab": {}
      },
      "source": [
        "\n",
        "import xgboost as xgb\n",
        "estimators = [100,200,250,300,350,400,600]  #parameter tuning of estimators (no. of base learners.)\n",
        "test_scores = []\n",
        "train_scores = []\n",
        "for i in estimators:\n",
        "    clf = xgb.XGBClassifier(max_depth=3,learning_rate=0.1,n_estimators=i,n_jobs=-1)\n",
        "    clf.fit(X_train,y_train)\n",
        "    predict_y = clf.predict_proba(X_train)\n",
        "    log_loss_train = log_loss(y_train, predict_y, eps=1e-15)\n",
        "    train_scores.append(log_loss_train)\n",
        "    predict_y = clf.predict_proba(X_test)\n",
        "    log_loss_test = log_loss(y_test, predict_y, eps=1e-15)\n",
        "    test_scores.append(log_loss_test)\n",
        "    print('estimators = ',i,'\\Train Log Loss ',log_loss_train,'\\Test Log Loss ',log_loss_test,'\\Loss difference between Test and Train',(log_loss_test-log_loss_train))\n",
        "plt.plot(estimators,train_scores,label='Train Log Loss')\n",
        "plt.plot(estimators,test_scores,label='Test Log Loss')\n",
        "plt.xlabel('estimators')\n",
        "plt.ylabel('Log Loss')\n"
      ],
      "execution_count": 0,
      "outputs": []
    },
    {
      "cell_type": "code",
      "metadata": {
        "id": "FWBk0HBqnI_v",
        "colab_type": "code",
        "colab": {}
      },
      "source": [
        "\n",
        "test_scores = []\n",
        "train_scores = []\n",
        "etas = [0.05,0.1,0.15,0.2,0.25,0.3]  #parameter tuning of learning rate.\n",
        "for i in etas:\n",
        "    clf = xgb.XGBClassifier(max_depth=3,learning_rate=i,n_estimators=350,n_jobs=-1)\n",
        "    clf.fit(X_train,y_train)\n",
        "    predict_y = clf.predict_proba(X_train)\n",
        "    log_loss_train = log_loss(y_train, predict_y, eps=1e-15)\n",
        "    train_scores.append(log_loss_train)\n",
        "    predict_y = clf.predict_proba(X_test)\n",
        "    log_loss_test = log_loss(y_test, predict_y, eps=1e-15)\n",
        "    test_scores.append(log_loss_test)\n",
        "    print('etas = ',i,'\\Train Log Loss ',log_loss_train,'\\Test Log Loss ',log_loss_test,'\\Loss difference between Test and Train',(log_loss_test-log_loss_train))\n",
        "plt.plot(etas,train_scores,label='Train Log Loss')\n",
        "plt.plot(etas,test_scores,label='Test Log Loss')\n",
        "plt.xlabel('Learning rate')\n",
        "plt.ylabel('Log Loss')"
      ],
      "execution_count": 0,
      "outputs": []
    },
    {
      "cell_type": "code",
      "metadata": {
        "id": "y3wig0fZnI0S",
        "colab_type": "code",
        "colab": {}
      },
      "source": [
        ""
      ],
      "execution_count": 0,
      "outputs": []
    },
    {
      "cell_type": "code",
      "metadata": {
        "id": "0ZWiIcBDm2wg",
        "colab_type": "code",
        "colab": {}
      },
      "source": [
        "test_scores = []\n",
        "train_scores = []\n",
        "alpha = [0.5,1,5,10,50,100,150]#parameter tuning of alpha\n",
        "for i in alpha:\n",
        "    clf = xgb.XGBClassifier(max_depth=3,learning_rate=0.15,n_estimators=350,reg_alpha=i,n_jobs=-1)\n",
        "    clf.fit(X_train,y_train)\n",
        "    predict_y = clf.predict_proba(X_train)\n",
        "    log_loss_train = log_loss(y_train, predict_y, eps=1e-15)\n",
        "    train_scores.append(log_loss_train)\n",
        "    predict_y = clf.predict_proba(X_test)\n",
        "    log_loss_test = log_loss(y_test, predict_y, eps=1e-15)\n",
        "    test_scores.append(log_loss_test)\n",
        "    print('reg_alpha = ',i,'\\Train Log Loss ',log_loss_train,'\\Test Log Loss ',log_loss_test,'\\Loss difference between Test and Train',(log_loss_test-log_loss_train))\n",
        "plt.plot(alpha,train_scores,label='Train Log Loss')\n",
        "plt.plot(alpha,test_scores,label='Test Log Loss')\n",
        "plt.xlabel('reg_alpha')\n",
        "plt.ylabel('Log Loss')\n"
      ],
      "execution_count": 0,
      "outputs": []
    },
    {
      "cell_type": "code",
      "metadata": {
        "id": "HlSGUp4Ym7oI",
        "colab_type": "code",
        "colab": {}
      },
      "source": [
        "import xgboost as xgb\n",
        "clf = xgb.XGBClassifier(max_depth=3,learning_rate=0.15,n_estimators=350,n_jobs=-1)\n",
        "clf.fit(X_train,y_train)\n",
        "predict_y = clf.predict_proba(X_test)\n",
        "print(\"The test log loss is:\",log_loss(y_test, predict_y, eps=1e-15))\n",
        "predicted_y =np.argmax(predict_y,axis=1)\n",
        "plot_confusion_matrix(y_test, predicted_y)"
      ],
      "execution_count": 0,
      "outputs": []
    },
    {
      "cell_type": "markdown",
      "metadata": {
        "id": "qPqFBkK_9sjT",
        "colab_type": "text"
      },
      "source": [
        "## (4) Converting Text data in TF-IDF vector"
      ]
    },
    {
      "cell_type": "code",
      "metadata": {
        "id": "yD6sel45nOcY",
        "colab_type": "code",
        "colab": {}
      },
      "source": [
        "data.columns"
      ],
      "execution_count": 0,
      "outputs": []
    },
    {
      "cell_type": "code",
      "metadata": {
        "id": "XqdIFvW9oY5A",
        "colab_type": "code",
        "colab": {}
      },
      "source": [
        "data.info()"
      ],
      "execution_count": 0,
      "outputs": []
    },
    {
      "cell_type": "code",
      "metadata": {
        "id": "BKhp5JzTocZR",
        "colab_type": "code",
        "colab": {}
      },
      "source": [
        "if os.path.isfile('nlp_features_train.csv'):\n",
        "    dfnlp = pd.read_csv(\"nlp_features_train.csv\",encoding='latin-1')\n",
        "else:\n",
        "    print(\"download nlp_features_train.csv from drive or run previous notebook\")\n",
        "\n",
        "if os.path.isfile('df_fe_without_preprocessing_train.csv'):\n",
        "    dfppro = pd.read_csv(\"df_fe_without_preprocessing_train.csv\",encoding='latin-1')\n",
        "else:\n",
        "    print(\"download df_fe_without_preprocessing_train.csv from drive or run previous notebook\")"
      ],
      "execution_count": 0,
      "outputs": []
    },
    {
      "cell_type": "code",
      "metadata": {
        "id": "hzUxavzjoowS",
        "colab_type": "code",
        "colab": {}
      },
      "source": [
        "df1 = dfnlp.drop(['qid1','qid2','question1','question2','is_duplicate'],axis=1)\n",
        "df2 = dfppro.drop(['qid1','qid2','question1','question2','is_duplicate'],axis=1)\n",
        "df3 = dfnlp[['id','question1','question2']]\n",
        "duplicate = dfnlp.is_duplicate"
      ],
      "execution_count": 0,
      "outputs": []
    },
    {
      "cell_type": "code",
      "metadata": {
        "id": "LsKrp2gIosQD",
        "colab_type": "code",
        "colab": {}
      },
      "source": [
        "df3 = df3.fillna(' ')\n",
        "df4 = pd.DataFrame()\n",
        "df4['Text'] = df3.question1 + ' ' + df3.question2\n",
        "df4['id'] = df3.id"
      ],
      "execution_count": 0,
      "outputs": []
    },
    {
      "cell_type": "code",
      "metadata": {
        "id": "m8zuIsiHovxf",
        "colab_type": "code",
        "colab": {}
      },
      "source": [
        "#Combining question1 and question2, then getting Tf-Idf\n",
        "df2['id']=df1['id']\n",
        "df4['id']=df1['id']\n",
        "df5  = df1.merge(df2, on='id',how='left')\n",
        "final  = df5.merge(df4, on='id',how='left')"
      ],
      "execution_count": 0,
      "outputs": []
    },
    {
      "cell_type": "code",
      "metadata": {
        "id": "2hqo5s3ooynF",
        "colab_type": "code",
        "colab": {}
      },
      "source": [
        "final = final.drop('id',axis=1)"
      ],
      "execution_count": 0,
      "outputs": []
    },
    {
      "cell_type": "code",
      "metadata": {
        "id": "oKZtdmtvo7vB",
        "colab_type": "code",
        "colab": {}
      },
      "source": [
        "#train test split\n",
        "X_train_tfidf,X_test_tfidf, y_train_tfidf, y_test_tfidf = train_test_split(final,duplicate,  test_size=0.3,random_state=24)\n"
      ],
      "execution_count": 0,
      "outputs": []
    },
    {
      "cell_type": "code",
      "metadata": {
        "id": "-MGrkiVmpDHg",
        "colab_type": "code",
        "colab": {}
      },
      "source": [
        "tfidf_vect = TfidfVectorizer(ngram_range=(1,4),max_features=200000,min_df=0.000032)\n",
        "train_tfidf = tfidf_vect.fit_transform(X_train_tfidf.Text)\n",
        "test_tfidf = tfidf_vect.transform(X_test_tfidf.Text)\n",
        "print('length of Tfidf features',len(tfidf_vect.get_feature_names()))"
      ],
      "execution_count": 0,
      "outputs": []
    },
    {
      "cell_type": "code",
      "metadata": {
        "id": "Vqsc_0wWpIvA",
        "colab_type": "code",
        "colab": {}
      },
      "source": [
        "X_train_tfidf = X_train_tfidf.drop('Text',axis=1)\n",
        "X_test_tfidf = X_test_tfidf.drop('Text',axis=1)"
      ],
      "execution_count": 0,
      "outputs": []
    },
    {
      "cell_type": "code",
      "metadata": {
        "id": "0g8dRL_5pKmI",
        "colab_type": "code",
        "colab": {}
      },
      "source": [
        "from scipy.sparse import hstack\n",
        "X_train1 = hstack((X_train_tfidf.values,train_tfidf))\n",
        "X_test1 = hstack((X_test_tfidf.values,test_tfidf))\n"
      ],
      "execution_count": 0,
      "outputs": []
    },
    {
      "cell_type": "code",
      "metadata": {
        "id": "ESr0UhfApQMH",
        "colab_type": "code",
        "colab": {}
      },
      "source": [
        "\"\"\"standardized\"\"\"\n",
        "\n",
        "scale = StandardScaler(with_mean=False)\n",
        "X_train_stdn = scale.fit_transform(X_train_tfidf)\n",
        "X_test_stdn = scale.transform(X_test_tfidf)"
      ],
      "execution_count": 0,
      "outputs": []
    },
    {
      "cell_type": "code",
      "metadata": {
        "id": "HyCLKmB5pSTj",
        "colab_type": "code",
        "colab": {}
      },
      "source": [
        "\n",
        "from scipy.sparse import hstack\n",
        "X_train_scale = hstack((X_train_stdn,train_tfidf))\n",
        "X_test_scale = hstack((X_test_stdn,test_tfidf))"
      ],
      "execution_count": 0,
      "outputs": []
    },
    {
      "cell_type": "markdown",
      "metadata": {
        "id": "_-mINbsmpWb6",
        "colab_type": "text"
      },
      "source": [
        "## (4.1) Logistic Regression with hyperparameter tuning(tfidf)"
      ]
    },
    {
      "cell_type": "code",
      "metadata": {
        "id": "QHP3BFXIoT2H",
        "colab_type": "code",
        "colab": {}
      },
      "source": [
        "alpha = [10 ** x for x in range(-5, 2)] # hyperparam for SGD classifier.\n",
        "\n",
        "log_error_array=[]\n",
        "for i in alpha:\n",
        "    clf = SGDClassifier(alpha=i, penalty='l2', loss='log', random_state=42)\n",
        "    clf.fit(X_train1, y_train_tfidf)\n",
        "    sig_clf = CalibratedClassifierCV(clf, method=\"sigmoid\")\n",
        "    sig_clf.fit(X_train1, y_train_tfidf)\n",
        "    predict_y = sig_clf.predict_proba(X_test1)\n",
        "    log_error_array.append(log_loss(y_test_tfidf, predict_y, labels=clf.classes_, eps=1e-15))\n",
        "    print('For values of alpha = ', i, \"The log loss is:\",log_loss(y_test_tfidf, predict_y, labels=clf.classes_, eps=1e-15))\n",
        "\n",
        "fig, ax = plt.subplots()\n",
        "ax.plot(alpha, log_error_array,c='g')\n",
        "for i, txt in enumerate(np.round(log_error_array,3)):\n",
        "    ax.annotate((alpha[i],np.round(txt,3)), (alpha[i],log_error_array[i]))\n",
        "plt.grid()\n",
        "plt.title(\"Cross Validation Error for each alpha\")\n",
        "plt.xlabel(\"Alpha i's\")\n",
        "plt.ylabel(\"Error measure\")\n",
        "plt.show()\n",
        "\n",
        "\n",
        "best_alpha = np.argmin(log_error_array)\n",
        "clf = SGDClassifier(alpha=alpha[best_alpha], penalty='l2', loss='log', random_state=42)\n",
        "clf.fit(X_train1, y_train_tfidf)\n",
        "sig_clf = CalibratedClassifierCV(clf, method=\"sigmoid\")\n",
        "sig_clf.fit(X_train1, y_train_tfidf)\n",
        "\n",
        "predict_y = sig_clf.predict_proba(X_train1)\n",
        "log_loss_train_logistic=log_loss(y_train_tfidf, predict_y, labels=clf.classes_, eps=1e-15)\n",
        "print('For values of best alpha = ', alpha[best_alpha], \"The train log loss is:\",log_loss_train_logistic)\n",
        "predict_y = sig_clf.predict_proba(X_test1)\n",
        "log_loss_test_logistic=log_loss(y_test_tfidf, predict_y, labels=clf.classes_, eps=1e-15)\n",
        "print('For values of best alpha = ', alpha[best_alpha], \"The test log loss is:\",log_loss_test_logistic)\n",
        "predicted_y =np.argmax(predict_y,axis=1)\n",
        "print(\"Total number of data points :\", len(predicted_y))\n",
        "plot_confusion_matrix(y_test_tfidf, predicted_y)\n"
      ],
      "execution_count": 0,
      "outputs": []
    },
    {
      "cell_type": "code",
      "metadata": {
        "id": "jQJ-QmkupkRd",
        "colab_type": "code",
        "colab": {}
      },
      "source": [
        "alpha = [10 ** x for x in range(-5, 2)] # hyperparam for SGD classifier.\n",
        "\n",
        "log_error_array=[]\n",
        "for i in alpha:\n",
        "    clf = SGDClassifier(alpha=i, penalty='l2', loss='log', random_state=42)\n",
        "    clf.fit(X_train_scale, y_train_tfidf)\n",
        "    sig_clf = CalibratedClassifierCV(clf, method=\"sigmoid\")\n",
        "    sig_clf.fit(X_train_scale, y_train_tfidf)\n",
        "    predict_y = sig_clf.predict_proba(X_test_scale)\n",
        "    log_error_array.append(log_loss(y_test_tfidf, predict_y, labels=clf.classes_, eps=1e-15))\n",
        "    print('For values of alpha = ', i, \"The log loss is:\",log_loss(y_test_tfidf, predict_y, labels=clf.classes_, eps=1e-15))\n",
        "\n",
        "fig, ax = plt.subplots()\n",
        "ax.plot(alpha, log_error_array,c='g')\n",
        "for i, txt in enumerate(np.round(log_error_array,3)):\n",
        "    ax.annotate((alpha[i],np.round(txt,3)), (alpha[i],log_error_array[i]))\n",
        "plt.grid()\n",
        "plt.title(\"Cross Validation Error for each alpha\")\n",
        "plt.xlabel(\"Alpha i's\")\n",
        "plt.ylabel(\"Error measure\")\n",
        "plt.show()\n",
        "\n",
        "\n",
        "best_alpha = np.argmin(log_error_array)\n",
        "clf = SGDClassifier(alpha=alpha[best_alpha], penalty='l2', loss='log', random_state=42)\n",
        "clf.fit(X_train_scale, y_train_tfidf)\n",
        "sig_clf = CalibratedClassifierCV(clf, method=\"sigmoid\")\n",
        "sig_clf.fit(X_train_scale, y_train_tfidf)\n",
        "\n",
        "predict_y = sig_clf.predict_proba(X_train_scale)\n",
        "log_loss_train_logistic_scaled=log_loss(y_train_tfidf, predict_y, labels=clf.classes_, eps=1e-15)\n",
        "print('For values of best alpha = ', alpha[best_alpha], \"The train log loss is:\",log_loss_train_logistic_scaled)\n",
        "predict_y = sig_clf.predict_proba(X_test_scale)\n",
        "log_loss_test_logistic_scaled=log_loss(y_test_tfidf, predict_y, labels=clf.classes_, eps=1e-15)\n",
        "print('For values of best alpha = ', alpha[best_alpha], \"The test log loss is:\",log_loss_test_logistic_scaled)\n",
        "predicted_y =np.argmax(predict_y,axis=1)\n",
        "print(\"Total number of data points :\", len(predicted_y))\n",
        "plot_confusion_matrix(y_test_tfidf, predicted_y)"
      ],
      "execution_count": 0,
      "outputs": []
    },
    {
      "cell_type": "markdown",
      "metadata": {
        "id": "-iW5wyOVqT-Q",
        "colab_type": "text"
      },
      "source": [
        "## (4.2) Linear SVM with hyperparameter tuning(tfidf)"
      ]
    },
    {
      "cell_type": "code",
      "metadata": {
        "id": "jcTtVbV9qRsI",
        "colab_type": "code",
        "colab": {}
      },
      "source": [
        ""
      ],
      "execution_count": 0,
      "outputs": []
    },
    {
      "cell_type": "code",
      "metadata": {
        "id": "IQSQyTlkp-Vh",
        "colab_type": "code",
        "colab": {}
      },
      "source": [
        "alpha = [10 ** x for x in range(-5, 2)] # hyperparam for SGD classifier.\n",
        "\n",
        "log_error_array=[]\n",
        "for i in alpha:\n",
        "    clf = SGDClassifier(alpha=i, penalty='l1', loss='hinge', random_state=42)\n",
        "    clf.fit(X_train1, y_train_tfidf)\n",
        "    sig_clf = CalibratedClassifierCV(clf, method=\"sigmoid\")\n",
        "    sig_clf.fit(X_train1, y_train_tfidf)\n",
        "    predict_y = sig_clf.predict_proba(X_test1)\n",
        "    log_error_array.append(log_loss(y_test_tfidf, predict_y, labels=clf.classes_, eps=1e-15))\n",
        "    print('For values of alpha = ', i, \"The log loss is:\",log_loss(y_test_tfidf, predict_y, labels=clf.classes_, eps=1e-15))\n",
        "\n",
        "fig, ax = plt.subplots()\n",
        "ax.plot(alpha, log_error_array,c='g')\n",
        "for i, txt in enumerate(np.round(log_error_array,3)):\n",
        "    ax.annotate((alpha[i],np.round(txt,3)), (alpha[i],log_error_array[i]))\n",
        "plt.grid()\n",
        "plt.title(\"Cross Validation Error for each alpha\")\n",
        "plt.xlabel(\"Alpha i's\")\n",
        "plt.ylabel(\"Error measure\")\n",
        "plt.show()\n",
        "\n",
        "\n",
        "best_alpha = np.argmin(log_error_array)\n",
        "clf = SGDClassifier(alpha=alpha[best_alpha], penalty='l1', loss='hinge', random_state=42)\n",
        "clf.fit(X_train1, y_train_tfidf)\n",
        "sig_clf = CalibratedClassifierCV(clf, method=\"sigmoid\")\n",
        "sig_clf.fit(X_train1, y_train_tfidf)\n",
        "\n",
        "predict_y = sig_clf.predict_proba(X_train1)\n",
        "log_loss_train_svm=log_loss(y_train_tfidf, predict_y, labels=clf.classes_, eps=1e-15)\n",
        "print('For values of best alpha = ', alpha[best_alpha], \"The train log loss is:\",log_loss_train_svm)\n",
        "predict_y = sig_clf.predict_proba(X_test1)\n",
        "log_loss_test_svm=log_loss(y_test_tfidf, predict_y, labels=clf.classes_, eps=1e-15)\n",
        "print('For values of best alpha = ', alpha[best_alpha], \"The test log loss is:\",log_loss_test_svm)\n",
        "predicted_y =np.argmax(predict_y,axis=1)\n",
        "print(\"Total number of data points :\", len(predicted_y))\n",
        "plot_confusion_matrix(y_test_tfidf, predicted_y)\n"
      ],
      "execution_count": 0,
      "outputs": []
    },
    {
      "cell_type": "code",
      "metadata": {
        "id": "JyCuCgpPqgHI",
        "colab_type": "code",
        "colab": {}
      },
      "source": [
        "\n",
        "\"\"\"with standardized scaled dataset\"\"\"\n",
        "\n",
        "alpha = [10 ** x for x in range(-5, 2)] # hyperparam for SGD classifier.\n",
        "\n",
        "log_error_array=[]\n",
        "for i in alpha:\n",
        "    clf = SGDClassifier(alpha=i, penalty='l1', loss='hinge', random_state=42)\n",
        "    clf.fit(X_train_scale, y_train_tfidf)\n",
        "    sig_clf = CalibratedClassifierCV(clf, method=\"sigmoid\")\n",
        "    sig_clf.fit(X_train_scale, y_train_tfidf)\n",
        "    predict_y = sig_clf.predict_proba(X_test_scale)\n",
        "    log_error_array.append(log_loss(y_test_tfidf, predict_y, labels=clf.classes_, eps=1e-15))\n",
        "    print('For values of alpha = ', i, \"The log loss is:\",log_loss(y_test_tfidf, predict_y, labels=clf.classes_, eps=1e-15))\n",
        "\n",
        "fig, ax = plt.subplots()\n",
        "ax.plot(alpha, log_error_array,c='g')\n",
        "for i, txt in enumerate(np.round(log_error_array,3)):\n",
        "    ax.annotate((alpha[i],np.round(txt,3)), (alpha[i],log_error_array[i]))\n",
        "plt.grid()\n",
        "plt.title(\"Cross Validation Error for each alpha\")\n",
        "plt.xlabel(\"Alpha i's\")\n",
        "plt.ylabel(\"Error measure\")\n",
        "plt.show()\n",
        "\n",
        "\n",
        "best_alpha = np.argmin(log_error_array)\n",
        "clf = SGDClassifier(alpha=alpha[best_alpha], penalty='l1', loss='hinge', random_state=42)\n",
        "clf.fit(X_train_scale, y_train_tfidf)\n",
        "sig_clf = CalibratedClassifierCV(clf, method=\"sigmoid\")\n",
        "sig_clf.fit(X_train_scale, y_train_tfidf)\n",
        "\n",
        "predict_y = sig_clf.predict_proba(X_train_scale)\n",
        "log_loss_train_svm_scaled=log_loss(y_train_tfidf, predict_y, labels=clf.classes_, eps=1e-15)\n",
        "print('For values of best alpha = ', alpha[best_alpha], \"The train log loss is:\",log_loss_train_svm_scaled)\n",
        "predict_y = sig_clf.predict_proba(X_test_scale)\n",
        "log_loss_test_svm_scaled=log_loss(y_test_tfidf, predict_y, labels=clf.classes_, eps=1e-15)\n",
        "print('For values of best alpha = ', alpha[best_alpha], \"The test log loss is:\",log_loss_test_svm_scaled)\n",
        "predicted_y =np.argmax(predict_y,axis=1)\n",
        "print(\"Total number of data points :\", len(predicted_y))\n",
        "plot_confusion_matrix(y_test_tfidf, predicted_y)\n"
      ],
      "execution_count": 0,
      "outputs": []
    },
    {
      "cell_type": "markdown",
      "metadata": {
        "id": "ayzEaOfhqxGZ",
        "colab_type": "text"
      },
      "source": [
        "## (4.3) XGBoost(tfidf)"
      ]
    },
    {
      "cell_type": "code",
      "metadata": {
        "id": "jEHk_7X_qvPR",
        "colab_type": "code",
        "colab": {}
      },
      "source": [
        "import pickle"
      ],
      "execution_count": 0,
      "outputs": []
    },
    {
      "cell_type": "code",
      "metadata": {
        "id": "njBkJRnSqsbX",
        "colab_type": "code",
        "colab": {}
      },
      "source": [
        "import xgboost as xgb\n",
        "from sklearn.model_selection import RandomizedSearchCV\n",
        "from sklearn.model_selection import ParameterGrid\n",
        "import random,math\n",
        "from random import randint\n",
        "from random import uniform\n",
        "\n",
        "param_dist = {\"max_depth\": [randint(2,5)],\n",
        "              \"learning_rate\":[uniform(0,0.25)],\n",
        "              \"n_estimators\":[randint(100,600)],\n",
        "              \"min_child_weight\": [randint(2, 8)],\n",
        "              \"gamma\": [uniform(0,4)],\n",
        "              \"subsample\":[uniform(0.3,0.7)],\n",
        "              \"colsample_bytree\": [uniform(0.3,0.7)],\n",
        "              \"reg_alpha\":[uniform(100,300)],\n",
        "              \"reg_lambda\":[uniform(100,300)]}\n",
        "\n",
        "xgb_classifier= xgb.XGBClassifier(n_jobs=-1,random_state=25)\n",
        "model_rs_xgb = RandomizedSearchCV(xgb_classifier, param_distributions=param_dist,n_iter=30,scoring='neg_log_loss',cv=10,n_jobs=-1)\n",
        "model_rs_xgb.fit(X_train_scale,y_train_tfidf)\n",
        "pickle.dump(model_rs_xgb,open('model_rs_xgb.p','wb'))\n"
      ],
      "execution_count": 0,
      "outputs": []
    },
    {
      "cell_type": "code",
      "metadata": {
        "id": "4uxBK4-jq-HK",
        "colab_type": "code",
        "colab": {}
      },
      "source": [
        "model_rs_xgb.best_params_\n"
      ],
      "execution_count": 0,
      "outputs": []
    },
    {
      "cell_type": "code",
      "metadata": {
        "id": "QAcLr_tcrCC7",
        "colab_type": "code",
        "colab": {}
      },
      "source": [
        "import xgboost as xgb\n",
        "clf = xgb.XGBClassifier(max_depth=4,learning_rate=0.18739843716109036,n_estimators=455,min_child_weight=3,\n",
        "                        reg_alpha=147.48355681277022,reg_lambda=298.24507830962364,\n",
        "                        gamma=0.08991146971048991,colsample_bytree=0.3395793695766003,n_jobs=-1)\n",
        "clf.fit(X_train_scale,y_train_tfidf)\n",
        "y_pred_test=clf.predict_proba(X_test_scale)\n",
        "y_pred_train=clf.predict_proba(X_train_scale)\n",
        "log_loss_train_xgb = log_loss(y_train_tfidf, y_pred_train, eps=1e-15)\n",
        "log_loss_test_xgb=log_loss(y_test_tfidf,y_pred_test,eps=1e-15)\n",
        "print('Train log loss = ',log_loss_train_xgb,' Test log loss = ',log_loss_test_xgb)\n",
        "predicted_y =np.argmax(predict_y,axis=1)\n",
        "plot_confusion_matrix(y_test_tfidf, predicted_y)\n"
      ],
      "execution_count": 0,
      "outputs": []
    },
    {
      "cell_type": "code",
      "metadata": {
        "id": "OyefzIpyrG4r",
        "colab_type": "code",
        "colab": {}
      },
      "source": [
        "\n",
        "!pip install PrettyTable"
      ],
      "execution_count": 0,
      "outputs": []
    },
    {
      "cell_type": "code",
      "metadata": {
        "id": "30pnlNccrOUQ",
        "colab_type": "code",
        "colab": {}
      },
      "source": [
        "\n",
        "from prettytable import PrettyTable    \n",
        "x = PrettyTable()\n",
        "x.field_names = [\"Model\",\"vectorizer\",\"logloss_train\",\"logloss_test\",\"logloss_train(with standardized)\",\"logloss_test(with standardized)\"]\n",
        "x.add_row(['Random model','TFIDF w2vec', '---'  , '0.8851460427625617','---','---'])\n",
        "x.add_row(['Logistic regression','TFIDF w2vec','0.50036000082','0.505431586320','0.403156873165','0.413104155793449'])\n",
        "x.add_row(['Linear SVM','TFIDF w2vec','0.478578596724142','0.4876647905346559','0.4180234067450405','0.4268263608040993'])\n",
        "x.add_row(['XGBOOST','TFIDF w2vec', '0.341883'  , '0.354821','---','---'])\n",
        "x.add_row(['Logistic regression','TFIDF ',log_loss_train_logistic   , log_loss_test_logistic , log_loss_train_logistic_scaled,log_loss_test_logistic_scaled])\n",
        "x.add_row(['Linear SVM','TFIDF',  log_loss_train_svm  , log_loss_test_svm,log_loss_train_svm_scaled,log_loss_test_svm_scaled])\n",
        "x.add_row(['XGBOOST_tuned','TFIDF ',log_loss_train_xgb,log_loss_test_xgb,'---','---'])\n",
        "\n",
        "print(x)\n"
      ],
      "execution_count": 0,
      "outputs": []
    },
    {
      "cell_type": "code",
      "metadata": {
        "id": "Gdk3mGnB8qoc",
        "colab_type": "code",
        "colab": {}
      },
      "source": [
        "\n",
        "from prettytable import PrettyTable\n",
        "\n",
        "data = x.get_string()\n",
        "\n",
        "with open('Quora.txt', 'w') as f:\n",
        "    f.write(data)"
      ],
      "execution_count": 0,
      "outputs": []
    }
  ]
}